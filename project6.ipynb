{
 "cells": [
  {
   "cell_type": "markdown",
   "metadata": {},
   "source": [
    "# Proyecto 6"
   ]
  },
  {
   "cell_type": "markdown",
   "metadata": {},
   "source": [
    "## Análisis de los datos"
   ]
  },
  {
   "cell_type": "markdown",
   "metadata": {},
   "source": [
    "Se agregan los datos y se hace una exploración del contenido para determinar si el nombre de las columnas y los tipo de datos son correctos. También si existen valores ausentes o nulos y filas duplicadas."
   ]
  },
  {
   "cell_type": "code",
   "execution_count": 1,
   "metadata": {},
   "outputs": [],
   "source": [
    "# Import libraries\n",
    "import pandas as pd\n",
    "import numpy as np\n",
    "from matplotlib import pyplot as plt\n",
    "from scipy import stats as st"
   ]
  },
  {
   "cell_type": "code",
   "execution_count": 2,
   "metadata": {},
   "outputs": [],
   "source": [
    "# Read DataFrame\n",
    "df = pd.read_csv('./games.csv',sep = ',', header=0)"
   ]
  },
  {
   "cell_type": "markdown",
   "metadata": {},
   "source": [
    "Se procede a hacer un análisis exploratorio del DataFrame."
   ]
  },
  {
   "cell_type": "code",
   "execution_count": 3,
   "metadata": {},
   "outputs": [
    {
     "name": "stdout",
     "output_type": "stream",
     "text": [
      "                Name Platform  Year_of_Release     Genre  NA_sales  EU_sales  \\\n",
      "0         Wii Sports      Wii           2006.0    Sports     41.36     28.96   \n",
      "1  Super Mario Bros.      NES           1985.0  Platform     29.08      3.58   \n",
      "2     Mario Kart Wii      Wii           2008.0    Racing     15.68     12.76   \n",
      "\n",
      "   JP_sales  Other_sales  Critic_Score User_Score Rating  \n",
      "0      3.77         8.45          76.0          8      E  \n",
      "1      6.81         0.77           NaN        NaN    NaN  \n",
      "2      3.79         3.29          82.0        8.3      E  \n"
     ]
    }
   ],
   "source": [
    "# Show DataFrame\n",
    "print(df.head(3))"
   ]
  },
  {
   "cell_type": "code",
   "execution_count": 4,
   "metadata": {},
   "outputs": [
    {
     "name": "stdout",
     "output_type": "stream",
     "text": [
      "<class 'pandas.core.frame.DataFrame'>\n",
      "RangeIndex: 16715 entries, 0 to 16714\n",
      "Data columns (total 11 columns):\n",
      " #   Column           Non-Null Count  Dtype  \n",
      "---  ------           --------------  -----  \n",
      " 0   Name             16713 non-null  object \n",
      " 1   Platform         16715 non-null  object \n",
      " 2   Year_of_Release  16446 non-null  float64\n",
      " 3   Genre            16713 non-null  object \n",
      " 4   NA_sales         16715 non-null  float64\n",
      " 5   EU_sales         16715 non-null  float64\n",
      " 6   JP_sales         16715 non-null  float64\n",
      " 7   Other_sales      16715 non-null  float64\n",
      " 8   Critic_Score     8137 non-null   float64\n",
      " 9   User_Score       10014 non-null  object \n",
      " 10  Rating           9949 non-null   object \n",
      "dtypes: float64(6), object(5)\n",
      "memory usage: 1.4+ MB\n"
     ]
    }
   ],
   "source": [
    "# DataFrame information\n",
    "df.info()"
   ]
  },
  {
   "cell_type": "markdown",
   "metadata": {},
   "source": [
    "Se tiene valores nulos en casi todas las columnas y el tipo de dato de algunas columnas no es adecuado."
   ]
  },
  {
   "cell_type": "code",
   "execution_count": 5,
   "metadata": {},
   "outputs": [
    {
     "data": {
      "text/plain": [
       "Name                  2\n",
       "Platform              0\n",
       "Year_of_Release     269\n",
       "Genre                 2\n",
       "NA_sales              0\n",
       "EU_sales              0\n",
       "JP_sales              0\n",
       "Other_sales           0\n",
       "Critic_Score       8578\n",
       "User_Score         6701\n",
       "Rating             6766\n",
       "dtype: int64"
      ]
     },
     "execution_count": 5,
     "metadata": {},
     "output_type": "execute_result"
    }
   ],
   "source": [
    "# Verify the number of null values per column\n",
    "df.isna().sum()"
   ]
  },
  {
   "cell_type": "code",
   "execution_count": 6,
   "metadata": {},
   "outputs": [
    {
     "data": {
      "text/plain": [
       "0"
      ]
     },
     "execution_count": 6,
     "metadata": {},
     "output_type": "execute_result"
    }
   ],
   "source": [
    "# Fill null values by 'Unknown' in column 'Name'\n",
    "df['Name'] = df['Name'].fillna('Unknown')\n",
    "df['Name'].isna().sum()"
   ]
  },
  {
   "cell_type": "markdown",
   "metadata": {},
   "source": [
    "## Preparación de los datos"
   ]
  },
  {
   "cell_type": "markdown",
   "metadata": {},
   "source": [
    "**Nombre de las columnas y contenido de la columna 'Name'**"
   ]
  },
  {
   "cell_type": "markdown",
   "metadata": {},
   "source": [
    "Primero se cambiará el nombre de las columnas a \"snake_case\" y después el contenido usando la función creada 'strip_lower_replace'."
   ]
  },
  {
   "cell_type": "code",
   "execution_count": 7,
   "metadata": {},
   "outputs": [],
   "source": [
    "def strip_lower_replace(element):\n",
    "    '''Function to format data'''\n",
    "    element = element.strip().lower().replace(\" \",\"_\").replace(\",\",\"\")\n",
    "    element = element.replace(\";\",\"\").replace(\".\",\"\")\n",
    "    return element"
   ]
  },
  {
   "cell_type": "code",
   "execution_count": 8,
   "metadata": {},
   "outputs": [],
   "source": [
    "# Loop to change column names\n",
    "col_names = []\n",
    "for old_name in df.columns:\n",
    "    new_name = strip_lower_replace(old_name)\n",
    "    col_names.append(new_name)\n",
    "\n",
    "df.columns = col_names"
   ]
  },
  {
   "cell_type": "code",
   "execution_count": 9,
   "metadata": {},
   "outputs": [],
   "source": [
    "# Change column types\n",
    "df[['name','platform','genre']] = df[['name','platform','genre']].astype('str')"
   ]
  },
  {
   "cell_type": "code",
   "execution_count": 10,
   "metadata": {},
   "outputs": [],
   "source": [
    "# Change column names\n",
    "df['name'] = df['name'].apply(strip_lower_replace)\n",
    "df['platform'] = df['platform'].apply(strip_lower_replace)\n",
    "df['genre'] = df['genre'].apply(strip_lower_replace)"
   ]
  },
  {
   "cell_type": "code",
   "execution_count": 11,
   "metadata": {},
   "outputs": [
    {
     "data": {
      "text/html": [
       "<div>\n",
       "<style scoped>\n",
       "    .dataframe tbody tr th:only-of-type {\n",
       "        vertical-align: middle;\n",
       "    }\n",
       "\n",
       "    .dataframe tbody tr th {\n",
       "        vertical-align: top;\n",
       "    }\n",
       "\n",
       "    .dataframe thead th {\n",
       "        text-align: right;\n",
       "    }\n",
       "</style>\n",
       "<table border=\"1\" class=\"dataframe\">\n",
       "  <thead>\n",
       "    <tr style=\"text-align: right;\">\n",
       "      <th></th>\n",
       "      <th>name</th>\n",
       "      <th>platform</th>\n",
       "      <th>year_of_release</th>\n",
       "      <th>genre</th>\n",
       "      <th>na_sales</th>\n",
       "      <th>eu_sales</th>\n",
       "      <th>jp_sales</th>\n",
       "      <th>other_sales</th>\n",
       "      <th>critic_score</th>\n",
       "      <th>user_score</th>\n",
       "      <th>rating</th>\n",
       "    </tr>\n",
       "  </thead>\n",
       "  <tbody>\n",
       "    <tr>\n",
       "      <th>9799</th>\n",
       "      <td>the_lord_of_the_rings:_aragorn's_quest</td>\n",
       "      <td>psp</td>\n",
       "      <td>2010.0</td>\n",
       "      <td>action</td>\n",
       "      <td>0.07</td>\n",
       "      <td>0.02</td>\n",
       "      <td>0.00</td>\n",
       "      <td>0.02</td>\n",
       "      <td>NaN</td>\n",
       "      <td>tbd</td>\n",
       "      <td>E10+</td>\n",
       "    </tr>\n",
       "    <tr>\n",
       "      <th>12011</th>\n",
       "      <td>mcfarlane's_evil_prophecy</td>\n",
       "      <td>ps2</td>\n",
       "      <td>NaN</td>\n",
       "      <td>action</td>\n",
       "      <td>0.03</td>\n",
       "      <td>0.03</td>\n",
       "      <td>0.00</td>\n",
       "      <td>0.01</td>\n",
       "      <td>34.0</td>\n",
       "      <td>3.2</td>\n",
       "      <td>M</td>\n",
       "    </tr>\n",
       "    <tr>\n",
       "      <th>1113</th>\n",
       "      <td>need_for_speed_carbon</td>\n",
       "      <td>x360</td>\n",
       "      <td>2006.0</td>\n",
       "      <td>racing</td>\n",
       "      <td>0.76</td>\n",
       "      <td>0.69</td>\n",
       "      <td>0.02</td>\n",
       "      <td>0.18</td>\n",
       "      <td>77.0</td>\n",
       "      <td>6.3</td>\n",
       "      <td>E10+</td>\n",
       "    </tr>\n",
       "  </tbody>\n",
       "</table>\n",
       "</div>"
      ],
      "text/plain": [
       "                                         name platform  year_of_release  \\\n",
       "9799   the_lord_of_the_rings:_aragorn's_quest      psp           2010.0   \n",
       "12011               mcfarlane's_evil_prophecy      ps2              NaN   \n",
       "1113                    need_for_speed_carbon     x360           2006.0   \n",
       "\n",
       "        genre  na_sales  eu_sales  jp_sales  other_sales  critic_score  \\\n",
       "9799   action      0.07      0.02      0.00         0.02           NaN   \n",
       "12011  action      0.03      0.03      0.00         0.01          34.0   \n",
       "1113   racing      0.76      0.69      0.02         0.18          77.0   \n",
       "\n",
       "      user_score rating  \n",
       "9799         tbd   E10+  \n",
       "12011        3.2      M  \n",
       "1113         6.3   E10+  "
      ]
     },
     "execution_count": 11,
     "metadata": {},
     "output_type": "execute_result"
    }
   ],
   "source": [
    "# Show DatFrame\n",
    "df.sample(3)"
   ]
  },
  {
   "cell_type": "markdown",
   "metadata": {},
   "source": [
    "**Columna 'platform'**"
   ]
  },
  {
   "cell_type": "markdown",
   "metadata": {},
   "source": [
    "Al examinar la columna 'platform', se observa que se puede agrupar o categorizar por empresa. Entonces se creará una nueva columna llamada 'platform_group' usando la función creada 'group_plat'."
   ]
  },
  {
   "cell_type": "code",
   "execution_count": 12,
   "metadata": {},
   "outputs": [
    {
     "data": {
      "text/plain": [
       "array(['wii', 'nes', 'gb', 'ds', 'x360', 'ps3', 'ps2', 'snes', 'gba',\n",
       "       'ps4', '3ds', 'n64', 'ps', 'xb', 'pc', '2600', 'psp', 'xone',\n",
       "       'wiiu', 'gc', 'gen', 'dc', 'psv', 'sat', 'scd', 'ws', 'ng', 'tg16',\n",
       "       '3do', 'gg', 'pcfx'], dtype=object)"
      ]
     },
     "execution_count": 12,
     "metadata": {},
     "output_type": "execute_result"
    }
   ],
   "source": [
    "# Show unique values of column 'platform'\n",
    "df['platform'].unique()"
   ]
  },
  {
   "cell_type": "code",
   "execution_count": 13,
   "metadata": {},
   "outputs": [],
   "source": [
    "def group_plat(category):\n",
    "    '''Function to categorize 'platform' column content'''\n",
    "    if category in ['3ds','ds','gb','gba','gc','n64','nes','snes','wii','wiiu']:\n",
    "        return \"Nintendo\"\n",
    "    if category in ['pc','pcfx']:\n",
    "        return \"PC\"\n",
    "    if category in ['ps','ps2','ps3','ps4','psp','psv']:\n",
    "        return \"PlayStation\"\n",
    "    if category in ['x360','xb','xone']:\n",
    "        return \"XBox\"\n",
    "    else:\n",
    "        return \"Other\""
   ]
  },
  {
   "cell_type": "code",
   "execution_count": 14,
   "metadata": {},
   "outputs": [
    {
     "data": {
      "text/html": [
       "<div>\n",
       "<style scoped>\n",
       "    .dataframe tbody tr th:only-of-type {\n",
       "        vertical-align: middle;\n",
       "    }\n",
       "\n",
       "    .dataframe tbody tr th {\n",
       "        vertical-align: top;\n",
       "    }\n",
       "\n",
       "    .dataframe thead th {\n",
       "        text-align: right;\n",
       "    }\n",
       "</style>\n",
       "<table border=\"1\" class=\"dataframe\">\n",
       "  <thead>\n",
       "    <tr style=\"text-align: right;\">\n",
       "      <th></th>\n",
       "      <th>name</th>\n",
       "      <th>platform</th>\n",
       "      <th>year_of_release</th>\n",
       "      <th>genre</th>\n",
       "      <th>na_sales</th>\n",
       "      <th>eu_sales</th>\n",
       "      <th>jp_sales</th>\n",
       "      <th>other_sales</th>\n",
       "      <th>critic_score</th>\n",
       "      <th>user_score</th>\n",
       "      <th>rating</th>\n",
       "      <th>platform_group</th>\n",
       "    </tr>\n",
       "  </thead>\n",
       "  <tbody>\n",
       "    <tr>\n",
       "      <th>14367</th>\n",
       "      <td>sekai_no_hate_made_itte_q!_chinjuu_hunter_mono...</td>\n",
       "      <td>ds</td>\n",
       "      <td>2010.0</td>\n",
       "      <td>misc</td>\n",
       "      <td>0.00</td>\n",
       "      <td>0.00</td>\n",
       "      <td>0.03</td>\n",
       "      <td>0.00</td>\n",
       "      <td>NaN</td>\n",
       "      <td>NaN</td>\n",
       "      <td>NaN</td>\n",
       "      <td>Nintendo</td>\n",
       "    </tr>\n",
       "    <tr>\n",
       "      <th>12850</th>\n",
       "      <td>jikkyou_powerful_pro_yakyuu_dreamcast_edition</td>\n",
       "      <td>dc</td>\n",
       "      <td>2000.0</td>\n",
       "      <td>sports</td>\n",
       "      <td>0.00</td>\n",
       "      <td>0.00</td>\n",
       "      <td>0.06</td>\n",
       "      <td>0.00</td>\n",
       "      <td>NaN</td>\n",
       "      <td>NaN</td>\n",
       "      <td>NaN</td>\n",
       "      <td>Other</td>\n",
       "    </tr>\n",
       "    <tr>\n",
       "      <th>2</th>\n",
       "      <td>mario_kart_wii</td>\n",
       "      <td>wii</td>\n",
       "      <td>2008.0</td>\n",
       "      <td>racing</td>\n",
       "      <td>15.68</td>\n",
       "      <td>12.76</td>\n",
       "      <td>3.79</td>\n",
       "      <td>3.29</td>\n",
       "      <td>82.0</td>\n",
       "      <td>8.3</td>\n",
       "      <td>E</td>\n",
       "      <td>Nintendo</td>\n",
       "    </tr>\n",
       "    <tr>\n",
       "      <th>32</th>\n",
       "      <td>call_of_duty:_black_ops</td>\n",
       "      <td>x360</td>\n",
       "      <td>2010.0</td>\n",
       "      <td>shooter</td>\n",
       "      <td>9.70</td>\n",
       "      <td>3.68</td>\n",
       "      <td>0.11</td>\n",
       "      <td>1.13</td>\n",
       "      <td>87.0</td>\n",
       "      <td>6.3</td>\n",
       "      <td>M</td>\n",
       "      <td>XBox</td>\n",
       "    </tr>\n",
       "    <tr>\n",
       "      <th>7201</th>\n",
       "      <td>mega_man_64</td>\n",
       "      <td>n64</td>\n",
       "      <td>2000.0</td>\n",
       "      <td>action</td>\n",
       "      <td>0.14</td>\n",
       "      <td>0.03</td>\n",
       "      <td>0.05</td>\n",
       "      <td>0.00</td>\n",
       "      <td>NaN</td>\n",
       "      <td>NaN</td>\n",
       "      <td>NaN</td>\n",
       "      <td>Nintendo</td>\n",
       "    </tr>\n",
       "  </tbody>\n",
       "</table>\n",
       "</div>"
      ],
      "text/plain": [
       "                                                    name platform  \\\n",
       "14367  sekai_no_hate_made_itte_q!_chinjuu_hunter_mono...       ds   \n",
       "12850      jikkyou_powerful_pro_yakyuu_dreamcast_edition       dc   \n",
       "2                                         mario_kart_wii      wii   \n",
       "32                               call_of_duty:_black_ops     x360   \n",
       "7201                                         mega_man_64      n64   \n",
       "\n",
       "       year_of_release    genre  na_sales  eu_sales  jp_sales  other_sales  \\\n",
       "14367           2010.0     misc      0.00      0.00      0.03         0.00   \n",
       "12850           2000.0   sports      0.00      0.00      0.06         0.00   \n",
       "2               2008.0   racing     15.68     12.76      3.79         3.29   \n",
       "32              2010.0  shooter      9.70      3.68      0.11         1.13   \n",
       "7201            2000.0   action      0.14      0.03      0.05         0.00   \n",
       "\n",
       "       critic_score user_score rating platform_group  \n",
       "14367           NaN        NaN    NaN       Nintendo  \n",
       "12850           NaN        NaN    NaN          Other  \n",
       "2              82.0        8.3      E       Nintendo  \n",
       "32             87.0        6.3      M           XBox  \n",
       "7201            NaN        NaN    NaN       Nintendo  "
      ]
     },
     "execution_count": 14,
     "metadata": {},
     "output_type": "execute_result"
    }
   ],
   "source": [
    "# Create a new column of categories of platforms\n",
    "df['platform_group'] = df['platform'].apply(group_plat)\n",
    "df.sample(5)"
   ]
  },
  {
   "cell_type": "markdown",
   "metadata": {},
   "source": [
    "**Columna 'genre'**"
   ]
  },
  {
   "cell_type": "markdown",
   "metadata": {},
   "source": [
    "La columna 'genre' ya no tiene valores nulos."
   ]
  },
  {
   "cell_type": "code",
   "execution_count": 15,
   "metadata": {},
   "outputs": [
    {
     "data": {
      "text/plain": [
       "0"
      ]
     },
     "execution_count": 15,
     "metadata": {},
     "output_type": "execute_result"
    }
   ],
   "source": [
    "# Verify the number of null values of column 'genre'\n",
    "df['genre'].isna().sum()"
   ]
  },
  {
   "cell_type": "markdown",
   "metadata": {},
   "source": [
    "Se verificá si la columna 'genre' tiene un elemento de tipo diferente a string."
   ]
  },
  {
   "cell_type": "code",
   "execution_count": 16,
   "metadata": {},
   "outputs": [
    {
     "data": {
      "text/plain": [
       "genre\n",
       "action          3369\n",
       "sports          2348\n",
       "misc            1750\n",
       "role-playing    1498\n",
       "shooter         1323\n",
       "adventure       1303\n",
       "racing          1249\n",
       "platform         888\n",
       "simulation       873\n",
       "fighting         849\n",
       "strategy         683\n",
       "puzzle           580\n",
       "nan                2\n",
       "Name: count, dtype: int64"
      ]
     },
     "execution_count": 16,
     "metadata": {},
     "output_type": "execute_result"
    }
   ],
   "source": [
    "# Show number of different genres in column 'genre'\n",
    "df['genre'].value_counts()"
   ]
  },
  {
   "cell_type": "markdown",
   "metadata": {},
   "source": [
    "El método value_counts() generó el resultado esperado, por lo tanto, se puede asumir que todos los datos en la columna 'genre' son string, pero hay valores 'nan'."
   ]
  },
  {
   "cell_type": "code",
   "execution_count": 17,
   "metadata": {},
   "outputs": [
    {
     "data": {
      "text/plain": [
       "array(['sports', 'platform', 'racing', 'role-playing', 'puzzle', 'misc',\n",
       "       'shooter', 'simulation', 'action', 'fighting', 'adventure',\n",
       "       'strategy', 'nan'], dtype=object)"
      ]
     },
     "execution_count": 17,
     "metadata": {},
     "output_type": "execute_result"
    }
   ],
   "source": [
    "# Show unique values of column 'genre'\n",
    "df['genre'].unique()"
   ]
  },
  {
   "cell_type": "code",
   "execution_count": 18,
   "metadata": {},
   "outputs": [
    {
     "data": {
      "text/plain": [
       "array(['sports', 'platform', 'racing', 'role-playing', 'puzzle', 'misc',\n",
       "       'shooter', 'simulation', 'action', 'fighting', 'adventure',\n",
       "       'strategy', 'other'], dtype=object)"
      ]
     },
     "execution_count": 18,
     "metadata": {},
     "output_type": "execute_result"
    }
   ],
   "source": [
    "# Fill string 'nan' by 'other' in column 'genre'\n",
    "df.loc[df['genre'] == 'nan', 'genre'] = 'other'\n",
    "df['genre'].unique()"
   ]
  },
  {
   "cell_type": "markdown",
   "metadata": {},
   "source": [
    "Todo bien en la columna 'genre'."
   ]
  },
  {
   "cell_type": "markdown",
   "metadata": {},
   "source": [
    "**Columna 'critic_score'**"
   ]
  },
  {
   "cell_type": "markdown",
   "metadata": {},
   "source": [
    "Se verificá si todos los valores son de tipo float, sin importar si tiene valores nulos."
   ]
  },
  {
   "cell_type": "code",
   "execution_count": 19,
   "metadata": {},
   "outputs": [
    {
     "data": {
      "text/plain": [
       "count    8137.000000\n",
       "mean       68.967679\n",
       "std        13.938165\n",
       "min        13.000000\n",
       "25%        60.000000\n",
       "50%        71.000000\n",
       "75%        79.000000\n",
       "max        98.000000\n",
       "Name: critic_score, dtype: float64"
      ]
     },
     "execution_count": 19,
     "metadata": {},
     "output_type": "execute_result"
    }
   ],
   "source": [
    "# Show some metrics of column 'critic_score'\n",
    "df['critic_score'].describe()"
   ]
  },
  {
   "cell_type": "markdown",
   "metadata": {},
   "source": [
    "El método 'describe' pudo generar las métricas correspondientes, lo que implica que los datos de la columna 'critic_score' tienen el tipo adecuado (float64)."
   ]
  },
  {
   "cell_type": "markdown",
   "metadata": {},
   "source": [
    "**Columna 'user_score'**"
   ]
  },
  {
   "cell_type": "markdown",
   "metadata": {},
   "source": [
    "Al usar el método 'describe' para la columna 'user_score', se observa que no genera métricas como 'mean' o 'std', lo que implica que hay strings en esa columna."
   ]
  },
  {
   "cell_type": "code",
   "execution_count": 20,
   "metadata": {},
   "outputs": [
    {
     "data": {
      "text/plain": [
       "count     10014\n",
       "unique       96\n",
       "top         tbd\n",
       "freq       2424\n",
       "Name: user_score, dtype: object"
      ]
     },
     "execution_count": 20,
     "metadata": {},
     "output_type": "execute_result"
    }
   ],
   "source": [
    "# Show some metrics of column 'user_score'\n",
    "df['user_score'].describe()"
   ]
  },
  {
   "cell_type": "code",
   "execution_count": 21,
   "metadata": {},
   "outputs": [
    {
     "data": {
      "text/plain": [
       "array(['8', nan, '8.3', '8.5', '6.6', '8.4', '8.6', '7.7', '6.3', '7.4',\n",
       "       '8.2', '9', '7.9', '8.1', '8.7', '7.1', '3.4', '5.3', '4.8', '3.2',\n",
       "       '8.9', '6.4', '7.8', '7.5', '2.6', '7.2', '9.2', '7', '7.3', '4.3',\n",
       "       '7.6', '5.7', '5', '9.1', '6.5', 'tbd', '8.8', '6.9', '9.4', '6.8',\n",
       "       '6.1', '6.7', '5.4', '4', '4.9', '4.5', '9.3', '6.2', '4.2', '6',\n",
       "       '3.7', '4.1', '5.8', '5.6', '5.5', '4.4', '4.6', '5.9', '3.9',\n",
       "       '3.1', '2.9', '5.2', '3.3', '4.7', '5.1', '3.5', '2.5', '1.9', '3',\n",
       "       '2.7', '2.2', '2', '9.5', '2.1', '3.6', '2.8', '1.8', '3.8', '0',\n",
       "       '1.6', '9.6', '2.4', '1.7', '1.1', '0.3', '1.5', '0.7', '1.2',\n",
       "       '2.3', '0.5', '1.3', '0.2', '0.6', '1.4', '0.9', '1', '9.7'],\n",
       "      dtype=object)"
      ]
     },
     "execution_count": 21,
     "metadata": {},
     "output_type": "execute_result"
    }
   ],
   "source": [
    "# Show unique values of column 'user_score'\n",
    "df['user_score'].unique()"
   ]
  },
  {
   "cell_type": "markdown",
   "metadata": {},
   "source": [
    "Se reemplazarán los valores 'tbd' por nan y se cambiará el formato a 'float'."
   ]
  },
  {
   "cell_type": "code",
   "execution_count": 22,
   "metadata": {},
   "outputs": [],
   "source": [
    "# Change the 'tbd' values by 'nan', in column 'user_score'\n",
    "df.loc[df['user_score'] == 'tbd', 'user_score'] = np.nan"
   ]
  },
  {
   "cell_type": "code",
   "execution_count": 23,
   "metadata": {},
   "outputs": [],
   "source": [
    "# Change the type of column 'user_score'\n",
    "df['user_score'] = df['user_score'].astype('float')"
   ]
  },
  {
   "cell_type": "markdown",
   "metadata": {},
   "source": [
    "**Columna rating**"
   ]
  },
  {
   "cell_type": "markdown",
   "metadata": {},
   "source": [
    "Parala columna 'ratings', previamente se mostró que tiene valores ausentes, por ahora no es necesario agrupar o modificar nada."
   ]
  },
  {
   "cell_type": "code",
   "execution_count": 24,
   "metadata": {},
   "outputs": [
    {
     "data": {
      "text/plain": [
       "rating\n",
       "E       3990\n",
       "T       2961\n",
       "M       1563\n",
       "E10+    1420\n",
       "EC         8\n",
       "K-A        3\n",
       "RP         3\n",
       "AO         1\n",
       "Name: count, dtype: int64"
      ]
     },
     "execution_count": 24,
     "metadata": {},
     "output_type": "execute_result"
    }
   ],
   "source": [
    "# Verify if all data in column 'rating' is string by using value_counts() method\n",
    "df['rating'].value_counts()"
   ]
  },
  {
   "cell_type": "markdown",
   "metadata": {},
   "source": [
    "El método value_counts() generó el resultado esperado, por lo tanto, se puede asumir que todos los datos en la columna 'rating' son string."
   ]
  },
  {
   "cell_type": "markdown",
   "metadata": {},
   "source": [
    "Hasta este momento no se puede determinar cómo reemplazar los valores ausentes en algunas columnas. Este análisis se hará más adelante cuando se realice el análsis de dispersión de los datos para determinar si los valores ausentes se reemplazán por la mediana, el promedio o se eliminan. Puede ser que exiten valores ausentes para juegos muy viejos donde no se tomó 'critic_score' ni 'user_score'."
   ]
  },
  {
   "cell_type": "markdown",
   "metadata": {},
   "source": [
    "A continuación se eliminarán filas duplicadas, considerando sólo el contenido de las columnas \"name\", \"platform_group\" y \"year_of_release\", dado que si un juego tiene el mismo nombre, plataforma y año de lanzamineto, se asume que el es mismo y está duplicado."
   ]
  },
  {
   "cell_type": "code",
   "execution_count": 25,
   "metadata": {},
   "outputs": [
    {
     "data": {
      "text/plain": [
       "1427"
      ]
     },
     "execution_count": 25,
     "metadata": {},
     "output_type": "execute_result"
    }
   ],
   "source": [
    "# Show duplicates considering a few columns only\n",
    "df[[\"name\",\"platform_group\",\"year_of_release\"]].duplicated().sum()"
   ]
  },
  {
   "cell_type": "markdown",
   "metadata": {},
   "source": [
    "Eliminando duplicados."
   ]
  },
  {
   "cell_type": "code",
   "execution_count": 26,
   "metadata": {
    "scrolled": true
   },
   "outputs": [],
   "source": [
    "# Delete duplicated rows considering a few columns only\n",
    "df=df.drop_duplicates(subset=[\"name\",\"platform_group\",\"year_of_release\"]).reset_index(drop=True)"
   ]
  },
  {
   "cell_type": "markdown",
   "metadata": {},
   "source": [
    "Verificando cuantos duplicados existen."
   ]
  },
  {
   "cell_type": "code",
   "execution_count": 27,
   "metadata": {},
   "outputs": [
    {
     "data": {
      "text/plain": [
       "0"
      ]
     },
     "execution_count": 27,
     "metadata": {},
     "output_type": "execute_result"
    }
   ],
   "source": [
    "# Show duplicates considering a few columns only\n",
    "df[[\"name\",\"platform_group\",\"year_of_release\"]].duplicated().sum()"
   ]
  },
  {
   "cell_type": "markdown",
   "metadata": {},
   "source": [
    "Se creará una columna de ventas totales."
   ]
  },
  {
   "cell_type": "code",
   "execution_count": 28,
   "metadata": {},
   "outputs": [],
   "source": [
    "# Create a new column of total sales\n",
    "df['total_sales'] = df['na_sales']+df['eu_sales']+df['jp_sales']+df['other_sales']"
   ]
  },
  {
   "cell_type": "markdown",
   "metadata": {},
   "source": [
    "## Análisis de los datos"
   ]
  },
  {
   "cell_type": "markdown",
   "metadata": {},
   "source": [
    "A continuación se muestran las ventas totales por plataforma durante todos los años en orden ascendente de ventas totales."
   ]
  },
  {
   "cell_type": "code",
   "execution_count": 29,
   "metadata": {},
   "outputs": [],
   "source": [
    "# Group by 'platform' and obtain the total sales\n",
    "sales_per_platform = df.groupby('platform')['total_sales'].sum()\n",
    "sales_per_platform = sales_per_platform.sort_values()"
   ]
  },
  {
   "cell_type": "code",
   "execution_count": 30,
   "metadata": {},
   "outputs": [
    {
     "data": {
      "image/png": "[encoded data removed]",
      "text/plain": [
       "<Figure size 800x400 with 1 Axes>"
      ]
     },
     "metadata": {},
     "output_type": "display_data"
    }
   ],
   "source": [
    "# Plot 'sales_per_platform' considering all platforms\n",
    "sales_per_platform.plot(kind='bar', figsize=[8,4], title='Sales per platform',\n",
    "                    xlabel='Platform', ylabel='Sales (dollars)')\n",
    "plt.show()"
   ]
  },
  {
   "cell_type": "markdown",
   "metadata": {},
   "source": [
    "**Conclusiones:** El juego mós vendido de todos los tiempos es el ps2, el cual pertenece a la empresa \"PlayStation\". Otros juegos que destacan son x360 ps3, wii y ds."
   ]
  },
  {
   "cell_type": "markdown",
   "metadata": {},
   "source": [
    "A continuación se muestran los juegos lanzados por año."
   ]
  },
  {
   "cell_type": "code",
   "execution_count": 31,
   "metadata": {},
   "outputs": [
    {
     "data": {
      "image/png": "[encoded data removed]",
      "text/plain": [
       "<Figure size 700x300 with 1 Axes>"
      ]
     },
     "metadata": {},
     "output_type": "display_data"
    }
   ],
   "source": [
    "# Group by 'year_of_release' and count the number of games released each year\n",
    "games_per_year = df.groupby('year_of_release')['name'].count()\n",
    "games_per_year.plot(kind='line', figsize=[7,3], title='Games per year',\n",
    "                    xlabel='Year of release', ylabel='Number of games')\n",
    "plt.show()"
   ]
  },
  {
   "cell_type": "markdown",
   "metadata": {},
   "source": [
    "Se asume que la crisis de 2008 afectó gravemente las ventas de los juegos."
   ]
  },
  {
   "cell_type": "markdown",
   "metadata": {},
   "source": [
    "**Nota:** A partir del año 1995 las ventas se incrementaron considerablemnte, por tanto, se tomará ese año como referencia.\n",
    "\n",
    "**Nota:** A partir de aquí y en lo sucesivo, el análisis de los datos considerará sólo el conjunto de categorias para las plataforma previamente definido (columna 'platform_group')."
   ]
  },
  {
   "cell_type": "markdown",
   "metadata": {},
   "source": [
    "**Distribución en las ventas de juegos a partir de 1995**"
   ]
  },
  {
   "cell_type": "code",
   "execution_count": 32,
   "metadata": {},
   "outputs": [],
   "source": [
    "# Filter by 'year_of_release' >= 1995\n",
    "df = df[df['year_of_release'] >= 1995]"
   ]
  },
  {
   "cell_type": "code",
   "execution_count": 33,
   "metadata": {},
   "outputs": [
    {
     "data": {
      "text/html": [
       "<div>\n",
       "<style scoped>\n",
       "    .dataframe tbody tr th:only-of-type {\n",
       "        vertical-align: middle;\n",
       "    }\n",
       "\n",
       "    .dataframe tbody tr th {\n",
       "        vertical-align: top;\n",
       "    }\n",
       "\n",
       "    .dataframe thead th {\n",
       "        text-align: right;\n",
       "    }\n",
       "</style>\n",
       "<table border=\"1\" class=\"dataframe\">\n",
       "  <thead>\n",
       "    <tr style=\"text-align: right;\">\n",
       "      <th>platform_group</th>\n",
       "      <th>Nintendo</th>\n",
       "      <th>Other</th>\n",
       "      <th>PC</th>\n",
       "      <th>PlayStation</th>\n",
       "      <th>XBox</th>\n",
       "    </tr>\n",
       "    <tr>\n",
       "      <th>year_of_release</th>\n",
       "      <th></th>\n",
       "      <th></th>\n",
       "      <th></th>\n",
       "      <th></th>\n",
       "      <th></th>\n",
       "    </tr>\n",
       "  </thead>\n",
       "  <tbody>\n",
       "    <tr>\n",
       "      <th>1995.0</th>\n",
       "      <td>35.80</td>\n",
       "      <td>11.94</td>\n",
       "      <td>4.22</td>\n",
       "      <td>35.96</td>\n",
       "      <td>NaN</td>\n",
       "    </tr>\n",
       "    <tr>\n",
       "      <th>1996.0</th>\n",
       "      <td>86.05</td>\n",
       "      <td>7.73</td>\n",
       "      <td>10.61</td>\n",
       "      <td>94.70</td>\n",
       "      <td>NaN</td>\n",
       "    </tr>\n",
       "    <tr>\n",
       "      <th>1997.0</th>\n",
       "      <td>46.86</td>\n",
       "      <td>6.77</td>\n",
       "      <td>11.27</td>\n",
       "      <td>136.17</td>\n",
       "      <td>NaN</td>\n",
       "    </tr>\n",
       "    <tr>\n",
       "      <th>1998.0</th>\n",
       "      <td>76.36</td>\n",
       "      <td>7.20</td>\n",
       "      <td>3.26</td>\n",
       "      <td>169.49</td>\n",
       "      <td>NaN</td>\n",
       "    </tr>\n",
       "    <tr>\n",
       "      <th>1999.0</th>\n",
       "      <td>95.82</td>\n",
       "      <td>5.71</td>\n",
       "      <td>4.74</td>\n",
       "      <td>144.53</td>\n",
       "      <td>NaN</td>\n",
       "    </tr>\n",
       "  </tbody>\n",
       "</table>\n",
       "</div>"
      ],
      "text/plain": [
       "platform_group   Nintendo  Other     PC  PlayStation  XBox\n",
       "year_of_release                                           \n",
       "1995.0              35.80  11.94   4.22        35.96   NaN\n",
       "1996.0              86.05   7.73  10.61        94.70   NaN\n",
       "1997.0              46.86   6.77  11.27       136.17   NaN\n",
       "1998.0              76.36   7.20   3.26       169.49   NaN\n",
       "1999.0              95.82   5.71   4.74       144.53   NaN"
      ]
     },
     "execution_count": 33,
     "metadata": {},
     "output_type": "execute_result"
    }
   ],
   "source": [
    "# Group by 'year_of_release' and 'platform_group' and obtain the total sales\n",
    "sales_per_platform = df.pivot_table(\n",
    "    index = 'year_of_release', columns = 'platform_group',\n",
    "    values = 'total_sales', aggfunc = 'sum')\n",
    "sales_per_platform.head(5)"
   ]
  },
  {
   "cell_type": "markdown",
   "metadata": {},
   "source": [
    "**Conclusiones:** XBox fue lanzado hasta el 2000 y que los que estan en la categoria 'Other' ya no son vendidos. Se observa que otros juegos (categoria 'Other') que eran populaes en 1996, en 2003 ya no lo son. Tardaron aproximadamente 7 años en dejar de ser populares. Para el caso de XBox tardo aproximadamente 7 años en ser popular (de 2000 a 2007)."
   ]
  },
  {
   "cell_type": "markdown",
   "metadata": {},
   "source": [
    "A continuación se muestra la distribución de las ventas totales por plataforma."
   ]
  },
  {
   "cell_type": "code",
   "execution_count": 34,
   "metadata": {},
   "outputs": [
    {
     "data": {
      "image/png": "[encoded data removed]",
      "text/plain": [
       "<Figure size 700x300 with 1 Axes>"
      ]
     },
     "metadata": {},
     "output_type": "display_data"
    }
   ],
   "source": [
    "# Plot 'sales_per_platform' considering main group of platforms\n",
    "sales_per_platform.plot(kind='box', figsize=[7,3], title='Sales per platform',\n",
    "                    xlabel='Platform', ylabel='Sales (million dollars)', color='tomato')\n",
    "plt.show()"
   ]
  },
  {
   "cell_type": "markdown",
   "metadata": {},
   "source": [
    "**Conclusiones:** PlayStation ha vendido más en general (promedio), además tiene menor dispersión en sus datos, lo que significa que no ha variado mucho en sus ventas a lo largo de los años. Tomando en cuanta la tabla de arriba, PlayStation y Nintendo vendieron 35 millones de juegos en 1995, pero en 1999 PlayStation vendio 144.53 millones mientras que Nintendo solo 95.82 millones, en sólo 4 años PlayStation ha superado en ventas a Nintendo. Por otro lado, Nintendo en general ha vendido un poco más que XBox, pero con una variación considerable en sus ventas durante los años."
   ]
  },
  {
   "cell_type": "markdown",
   "metadata": {},
   "source": [
    "Antes de continuar se analizarán las columnas 'critic_score' y 'user_score'. A continación se muestran unas métricas utiles."
   ]
  },
  {
   "cell_type": "code",
   "execution_count": 35,
   "metadata": {},
   "outputs": [
    {
     "data": {
      "text/html": [
       "<div>\n",
       "<style scoped>\n",
       "    .dataframe tbody tr th:only-of-type {\n",
       "        vertical-align: middle;\n",
       "    }\n",
       "\n",
       "    .dataframe tbody tr th {\n",
       "        vertical-align: top;\n",
       "    }\n",
       "\n",
       "    .dataframe thead th {\n",
       "        text-align: right;\n",
       "    }\n",
       "</style>\n",
       "<table border=\"1\" class=\"dataframe\">\n",
       "  <thead>\n",
       "    <tr style=\"text-align: right;\">\n",
       "      <th></th>\n",
       "      <th>critic_score</th>\n",
       "      <th>user_score</th>\n",
       "    </tr>\n",
       "  </thead>\n",
       "  <tbody>\n",
       "    <tr>\n",
       "      <th>count</th>\n",
       "      <td>7311.000000</td>\n",
       "      <td>6718.000000</td>\n",
       "    </tr>\n",
       "    <tr>\n",
       "      <th>mean</th>\n",
       "      <td>69.184653</td>\n",
       "      <td>7.185844</td>\n",
       "    </tr>\n",
       "    <tr>\n",
       "      <th>std</th>\n",
       "      <td>14.058811</td>\n",
       "      <td>1.476684</td>\n",
       "    </tr>\n",
       "    <tr>\n",
       "      <th>min</th>\n",
       "      <td>13.000000</td>\n",
       "      <td>0.000000</td>\n",
       "    </tr>\n",
       "    <tr>\n",
       "      <th>25%</th>\n",
       "      <td>60.000000</td>\n",
       "      <td>6.500000</td>\n",
       "    </tr>\n",
       "    <tr>\n",
       "      <th>50%</th>\n",
       "      <td>71.000000</td>\n",
       "      <td>7.500000</td>\n",
       "    </tr>\n",
       "    <tr>\n",
       "      <th>75%</th>\n",
       "      <td>80.000000</td>\n",
       "      <td>8.200000</td>\n",
       "    </tr>\n",
       "    <tr>\n",
       "      <th>max</th>\n",
       "      <td>98.000000</td>\n",
       "      <td>9.700000</td>\n",
       "    </tr>\n",
       "  </tbody>\n",
       "</table>\n",
       "</div>"
      ],
      "text/plain": [
       "       critic_score   user_score\n",
       "count   7311.000000  6718.000000\n",
       "mean      69.184653     7.185844\n",
       "std       14.058811     1.476684\n",
       "min       13.000000     0.000000\n",
       "25%       60.000000     6.500000\n",
       "50%       71.000000     7.500000\n",
       "75%       80.000000     8.200000\n",
       "max       98.000000     9.700000"
      ]
     },
     "execution_count": 35,
     "metadata": {},
     "output_type": "execute_result"
    }
   ],
   "source": [
    "# Show some metrics of columns 'critic_score' and 'user_score'\n",
    "df[['critic_score','user_score']].describe()"
   ]
  },
  {
   "cell_type": "code",
   "execution_count": 36,
   "metadata": {},
   "outputs": [
    {
     "data": {
      "text/plain": [
       "critic_score    71.0\n",
       "user_score       7.5\n",
       "dtype: float64"
      ]
     },
     "execution_count": 36,
     "metadata": {},
     "output_type": "execute_result"
    }
   ],
   "source": [
    "# Median of columns 'critic_score' and 'user_score'\n",
    "df[['critic_score','user_score']].median()"
   ]
  },
  {
   "cell_type": "markdown",
   "metadata": {},
   "source": [
    "Para ambas columnas las medias son casi iguales a las medianas, lo que significa que no existen valores atípicos considerables en ambas columnas, por lo tanto, los valores ausentes en ambas columnas se llenarán con las medias."
   ]
  },
  {
   "cell_type": "code",
   "execution_count": 37,
   "metadata": {},
   "outputs": [],
   "source": [
    "# Fill nan values of columns 'critic_score' and 'user_score'\n",
    "cols = ['critic_score','user_score']\n",
    "for col in cols:\n",
    "    df[col] = df[col].fillna(df[col].mean())"
   ]
  },
  {
   "cell_type": "code",
   "execution_count": 38,
   "metadata": {},
   "outputs": [
    {
     "name": "stdout",
     "output_type": "stream",
     "text": [
      "<class 'pandas.core.frame.DataFrame'>\n",
      "Index: 14543 entries, 0 to 15287\n",
      "Data columns (total 13 columns):\n",
      " #   Column           Non-Null Count  Dtype  \n",
      "---  ------           --------------  -----  \n",
      " 0   name             14543 non-null  object \n",
      " 1   platform         14543 non-null  object \n",
      " 2   year_of_release  14543 non-null  float64\n",
      " 3   genre            14543 non-null  object \n",
      " 4   na_sales         14543 non-null  float64\n",
      " 5   eu_sales         14543 non-null  float64\n",
      " 6   jp_sales         14543 non-null  float64\n",
      " 7   other_sales      14543 non-null  float64\n",
      " 8   critic_score     14543 non-null  float64\n",
      " 9   user_score       14543 non-null  float64\n",
      " 10  rating           8675 non-null   object \n",
      " 11  platform_group   14543 non-null  object \n",
      " 12  total_sales      14543 non-null  float64\n",
      "dtypes: float64(8), object(5)\n",
      "memory usage: 1.6+ MB\n"
     ]
    }
   ],
   "source": [
    "# Verify non-null values in all columns\n",
    "df.info()"
   ]
  },
  {
   "cell_type": "markdown",
   "metadata": {},
   "source": [
    "Los gráficos de disperción ('scatter plots') para PlayStation considerando 'critic_score' and 'user_score' se muestran a continuación."
   ]
  },
  {
   "cell_type": "code",
   "execution_count": 39,
   "metadata": {},
   "outputs": [
    {
     "data": {
      "image/png": "[encoded data removed]",
      "text/plain": [
       "<Figure size 640x480 with 1 Axes>"
      ]
     },
     "metadata": {},
     "output_type": "display_data"
    }
   ],
   "source": [
    "# Scatter plot\n",
    "df.sort_values('critic_score').plot(kind = 'scatter',\n",
    "            x = 'critic_score', y = 'total_sales',\n",
    "            title = \"Column 'critic_score' vs 'total_sales'\",\n",
    "            xlabel = 'Critic score (0-100)', ylabel = 'Total sales (million dollars)')\n",
    "plt.show()"
   ]
  },
  {
   "cell_type": "code",
   "execution_count": 40,
   "metadata": {},
   "outputs": [
    {
     "data": {
      "image/png": "[encoded data removed]",
      "text/plain": [
       "<Figure size 640x480 with 1 Axes>"
      ]
     },
     "metadata": {},
     "output_type": "display_data"
    }
   ],
   "source": [
    "# Scatter plot\n",
    "df.sort_values('user_score').plot(kind = 'scatter',\n",
    "            x = 'user_score', y = 'total_sales',\n",
    "            title = \"Column 'user_score' vs 'total_sales'\", color = 'hotpink',\n",
    "            xlabel = 'User score (0-10)', ylabel = 'Total sales (million dollars)')\n",
    "plt.show()"
   ]
  },
  {
   "cell_type": "code",
   "execution_count": 41,
   "metadata": {},
   "outputs": [
    {
     "name": "stdout",
     "output_type": "stream",
     "text": [
      "0.21722375784390666\n",
      "0.07855370700070095\n"
     ]
    }
   ],
   "source": [
    "# Correlation between 'critic_score' and 'user_score' with 'total_sales'\n",
    "print(df['critic_score'].corr(df['total_sales']))\n",
    "print(df['user_score'].corr(df['total_sales']))"
   ]
  },
  {
   "cell_type": "markdown",
   "metadata": {},
   "source": [
    "**Conclusiones:**  La correlación lineal entre la crítica profesional y las ventas totales es baja (del 21%), y la correlación lineal entre la crítica de los usuarios y las ventas totales es mucho más baja (del 7.8%). No importa que la columna 'user_score' no este multiplicada por 10, el coeficiente de correlación lineal sera el mismo (7.8%)."
   ]
  },
  {
   "cell_type": "markdown",
   "metadata": {},
   "source": [
    "Finalmene, se analizará la distribución general de las ventas de los juegos por género y por plataforma."
   ]
  },
  {
   "cell_type": "code",
   "execution_count": 42,
   "metadata": {},
   "outputs": [
    {
     "data": {
      "text/html": [
       "<div>\n",
       "<style scoped>\n",
       "    .dataframe tbody tr th:only-of-type {\n",
       "        vertical-align: middle;\n",
       "    }\n",
       "\n",
       "    .dataframe tbody tr th {\n",
       "        vertical-align: top;\n",
       "    }\n",
       "\n",
       "    .dataframe thead th {\n",
       "        text-align: right;\n",
       "    }\n",
       "</style>\n",
       "<table border=\"1\" class=\"dataframe\">\n",
       "  <thead>\n",
       "    <tr style=\"text-align: right;\">\n",
       "      <th>genre</th>\n",
       "      <th>action</th>\n",
       "      <th>adventure</th>\n",
       "      <th>fighting</th>\n",
       "      <th>misc</th>\n",
       "      <th>platform</th>\n",
       "      <th>puzzle</th>\n",
       "      <th>racing</th>\n",
       "      <th>role-playing</th>\n",
       "      <th>shooter</th>\n",
       "      <th>simulation</th>\n",
       "      <th>sports</th>\n",
       "      <th>strategy</th>\n",
       "    </tr>\n",
       "    <tr>\n",
       "      <th>platform_group</th>\n",
       "      <th></th>\n",
       "      <th></th>\n",
       "      <th></th>\n",
       "      <th></th>\n",
       "      <th></th>\n",
       "      <th></th>\n",
       "      <th></th>\n",
       "      <th></th>\n",
       "      <th></th>\n",
       "      <th></th>\n",
       "      <th></th>\n",
       "      <th></th>\n",
       "    </tr>\n",
       "  </thead>\n",
       "  <tbody>\n",
       "    <tr>\n",
       "      <th>Nintendo</th>\n",
       "      <td>349.19</td>\n",
       "      <td>84.56</td>\n",
       "      <td>89.31</td>\n",
       "      <td>432.93</td>\n",
       "      <td>374.86</td>\n",
       "      <td>127.90</td>\n",
       "      <td>190.01</td>\n",
       "      <td>405.78</td>\n",
       "      <td>75.36</td>\n",
       "      <td>209.60</td>\n",
       "      <td>387.23</td>\n",
       "      <td>54.33</td>\n",
       "    </tr>\n",
       "    <tr>\n",
       "      <th>Other</th>\n",
       "      <td>1.91</td>\n",
       "      <td>6.80</td>\n",
       "      <td>9.10</td>\n",
       "      <td>1.20</td>\n",
       "      <td>3.20</td>\n",
       "      <td>1.00</td>\n",
       "      <td>4.25</td>\n",
       "      <td>5.66</td>\n",
       "      <td>3.81</td>\n",
       "      <td>1.31</td>\n",
       "      <td>6.04</td>\n",
       "      <td>3.44</td>\n",
       "    </tr>\n",
       "    <tr>\n",
       "      <th>PC</th>\n",
       "      <td>30.71</td>\n",
       "      <td>6.42</td>\n",
       "      <td>0.13</td>\n",
       "      <td>6.00</td>\n",
       "      <td>0.46</td>\n",
       "      <td>0.91</td>\n",
       "      <td>3.78</td>\n",
       "      <td>47.28</td>\n",
       "      <td>38.32</td>\n",
       "      <td>50.30</td>\n",
       "      <td>11.97</td>\n",
       "      <td>43.54</td>\n",
       "    </tr>\n",
       "    <tr>\n",
       "      <th>PlayStation</th>\n",
       "      <td>811.23</td>\n",
       "      <td>82.51</td>\n",
       "      <td>229.46</td>\n",
       "      <td>193.74</td>\n",
       "      <td>186.52</td>\n",
       "      <td>23.87</td>\n",
       "      <td>359.13</td>\n",
       "      <td>326.09</td>\n",
       "      <td>426.16</td>\n",
       "      <td>82.68</td>\n",
       "      <td>527.61</td>\n",
       "      <td>51.34</td>\n",
       "    </tr>\n",
       "    <tr>\n",
       "      <th>XBox</th>\n",
       "      <td>309.18</td>\n",
       "      <td>19.49</td>\n",
       "      <td>52.01</td>\n",
       "      <td>103.31</td>\n",
       "      <td>21.44</td>\n",
       "      <td>1.14</td>\n",
       "      <td>101.82</td>\n",
       "      <td>94.92</td>\n",
       "      <td>380.37</td>\n",
       "      <td>21.29</td>\n",
       "      <td>197.74</td>\n",
       "      <td>12.65</td>\n",
       "    </tr>\n",
       "  </tbody>\n",
       "</table>\n",
       "</div>"
      ],
      "text/plain": [
       "genre           action  adventure  fighting    misc  platform  puzzle  racing  \\\n",
       "platform_group                                                                  \n",
       "Nintendo        349.19      84.56     89.31  432.93    374.86  127.90  190.01   \n",
       "Other             1.91       6.80      9.10    1.20      3.20    1.00    4.25   \n",
       "PC               30.71       6.42      0.13    6.00      0.46    0.91    3.78   \n",
       "PlayStation     811.23      82.51    229.46  193.74    186.52   23.87  359.13   \n",
       "XBox            309.18      19.49     52.01  103.31     21.44    1.14  101.82   \n",
       "\n",
       "genre           role-playing  shooter  simulation  sports  strategy  \n",
       "platform_group                                                       \n",
       "Nintendo              405.78    75.36      209.60  387.23     54.33  \n",
       "Other                   5.66     3.81        1.31    6.04      3.44  \n",
       "PC                     47.28    38.32       50.30   11.97     43.54  \n",
       "PlayStation           326.09   426.16       82.68  527.61     51.34  \n",
       "XBox                   94.92   380.37       21.29  197.74     12.65  "
      ]
     },
     "execution_count": 42,
     "metadata": {},
     "output_type": "execute_result"
    }
   ],
   "source": [
    "# Group by 'platform_group' column 'genre' and obtain the total sales\n",
    "sales_per_genre = df.pivot_table(\n",
    "    index = 'platform_group', columns = 'genre',\n",
    "    values = 'total_sales', aggfunc = 'sum')\n",
    "\n",
    "sales_per_genre"
   ]
  },
  {
   "cell_type": "code",
   "execution_count": 43,
   "metadata": {},
   "outputs": [
    {
     "data": {
      "image/png": "[encoded data removed]",
      "text/plain": [
       "<Figure size 700x300 with 1 Axes>"
      ]
     },
     "metadata": {},
     "output_type": "display_data"
    }
   ],
   "source": [
    "# Plot 'sales_per_platform' considering genre and group of platforms\n",
    "sales_per_genre.plot(kind='box', figsize=[7,3], title='Sales per platform per genre',\n",
    "    xlabel='Platform', ylabel='Sales (million dollars)', rot = 45)\n",
    "plt.show()"
   ]
  },
  {
   "cell_type": "markdown",
   "metadata": {},
   "source": [
    "**Conluciones:** Definitivamente la categoria 'action' es la más vendida aunque la variación en sus ventas sea relativamente alta."
   ]
  },
  {
   "cell_type": "markdown",
   "metadata": {},
   "source": [
    "## Perfil de usuario por regiones"
   ]
  },
  {
   "cell_type": "markdown",
   "metadata": {},
   "source": [
    "A continuación se crearán 3 grupos de las 5 plataformas más vendidas en NA, EU y JP."
   ]
  },
  {
   "cell_type": "code",
   "execution_count": 44,
   "metadata": {},
   "outputs": [],
   "source": [
    "# Group by 'platform' and obtain total sales in each region\n",
    "regions = df.groupby('platform')[['na_sales','eu_sales','jp_sales']].sum()"
   ]
  },
  {
   "cell_type": "code",
   "execution_count": 45,
   "metadata": {},
   "outputs": [],
   "source": [
    "# Most popular platforms in NA\n",
    "region_na = regions['na_sales'].sort_values(ascending=False).reset_index()\n",
    "\n",
    "# Most popular platforms in EU\n",
    "region_eu = regions['eu_sales'].sort_values(ascending=False).reset_index()\n",
    "\n",
    "# Most popular platforms in JP\n",
    "region_jp = regions['jp_sales'].sort_values(ascending=False).reset_index()"
   ]
  },
  {
   "cell_type": "markdown",
   "metadata": {},
   "source": [
    "En la tabla de abajo se muestran las 5 plataformas más vendidas por región, además se muestran las ventas individuales por plataforma."
   ]
  },
  {
   "cell_type": "code",
   "execution_count": 46,
   "metadata": {},
   "outputs": [
    {
     "data": {
      "text/html": [
       "<div>\n",
       "<style scoped>\n",
       "    .dataframe tbody tr th:only-of-type {\n",
       "        vertical-align: middle;\n",
       "    }\n",
       "\n",
       "    .dataframe tbody tr th {\n",
       "        vertical-align: top;\n",
       "    }\n",
       "\n",
       "    .dataframe thead th {\n",
       "        text-align: right;\n",
       "    }\n",
       "</style>\n",
       "<table border=\"1\" class=\"dataframe\">\n",
       "  <thead>\n",
       "    <tr style=\"text-align: right;\">\n",
       "      <th></th>\n",
       "      <th>platform</th>\n",
       "      <th>na_sales</th>\n",
       "      <th>platform</th>\n",
       "      <th>eu_sales</th>\n",
       "      <th>platform</th>\n",
       "      <th>jp_sales</th>\n",
       "    </tr>\n",
       "  </thead>\n",
       "  <tbody>\n",
       "    <tr>\n",
       "      <th>0</th>\n",
       "      <td>x360</td>\n",
       "      <td>578.65</td>\n",
       "      <td>ps2</td>\n",
       "      <td>326.55</td>\n",
       "      <td>ds</td>\n",
       "      <td>174.68</td>\n",
       "    </tr>\n",
       "    <tr>\n",
       "      <th>1</th>\n",
       "      <td>ps2</td>\n",
       "      <td>549.53</td>\n",
       "      <td>ps3</td>\n",
       "      <td>295.74</td>\n",
       "      <td>ps</td>\n",
       "      <td>137.07</td>\n",
       "    </tr>\n",
       "    <tr>\n",
       "      <th>2</th>\n",
       "      <td>wii</td>\n",
       "      <td>460.01</td>\n",
       "      <td>x360</td>\n",
       "      <td>261.00</td>\n",
       "      <td>ps2</td>\n",
       "      <td>136.46</td>\n",
       "    </tr>\n",
       "    <tr>\n",
       "      <th>3</th>\n",
       "      <td>ps3</td>\n",
       "      <td>356.18</td>\n",
       "      <td>wii</td>\n",
       "      <td>248.70</td>\n",
       "      <td>3ds</td>\n",
       "      <td>100.44</td>\n",
       "    </tr>\n",
       "    <tr>\n",
       "      <th>4</th>\n",
       "      <td>ds</td>\n",
       "      <td>336.17</td>\n",
       "      <td>ps</td>\n",
       "      <td>207.99</td>\n",
       "      <td>psp</td>\n",
       "      <td>72.31</td>\n",
       "    </tr>\n",
       "  </tbody>\n",
       "</table>\n",
       "</div>"
      ],
      "text/plain": [
       "  platform  na_sales platform  eu_sales platform  jp_sales\n",
       "0     x360    578.65      ps2    326.55       ds    174.68\n",
       "1      ps2    549.53      ps3    295.74       ps    137.07\n",
       "2      wii    460.01     x360    261.00      ps2    136.46\n",
       "3      ps3    356.18      wii    248.70      3ds    100.44\n",
       "4       ds    336.17       ps    207.99      psp     72.31"
      ]
     },
     "execution_count": 46,
     "metadata": {},
     "output_type": "execute_result"
    }
   ],
   "source": [
    "# Concatenate the three DataFrames\n",
    "region_na_eu_jp = pd.concat([region_na,region_eu,region_jp],axis='columns')\n",
    "region_na_eu_jp = region_na_eu_jp.loc[0:4]\n",
    "region_na_eu_jp"
   ]
  },
  {
   "cell_type": "markdown",
   "metadata": {},
   "source": [
    "A continuación se muestra la distribución de las ventas de las 5 plataformas más vendidas por región."
   ]
  },
  {
   "cell_type": "code",
   "execution_count": 47,
   "metadata": {},
   "outputs": [
    {
     "data": {
      "image/png": "[encoded data removed]",
      "text/plain": [
       "<Figure size 700x300 with 1 Axes>"
      ]
     },
     "metadata": {},
     "output_type": "display_data"
    }
   ],
   "source": [
    "# Box plot\n",
    "region_na_eu_jp.plot(kind='box', figsize=[7,3], title='Sales per platform per region',\n",
    "    xlabel='Region', ylabel='Sales (million dollars)')\n",
    "plt.show()"
   ]
  },
  {
   "cell_type": "markdown",
   "metadata": {},
   "source": [
    "**Conclusiones:** Las ventas en NA son mucho mayores a las ventas en Eu y JP, aunque se tenga una variacion grande en dichas ventas."
   ]
  },
  {
   "cell_type": "markdown",
   "metadata": {},
   "source": [
    "Para los géneros, se hará el mismo análisis de ventas usado para las plataformas. Entonces se crearán 3 grupos de los 5 géneros más vendidos en NA, EU y JP."
   ]
  },
  {
   "cell_type": "code",
   "execution_count": 48,
   "metadata": {},
   "outputs": [],
   "source": [
    "# Group by 'genre' and obtain total sales in each region\n",
    "regions_genre = df.groupby('genre')[['na_sales','eu_sales','jp_sales']].sum()"
   ]
  },
  {
   "cell_type": "code",
   "execution_count": 49,
   "metadata": {},
   "outputs": [],
   "source": [
    "# Most popular genre in NA\n",
    "genres_na = regions_genre['na_sales'].sort_values(ascending=False).reset_index()\n",
    "\n",
    "# Most popular genres in EU\n",
    "genres_eu = regions_genre['eu_sales'].sort_values(ascending=False).reset_index()\n",
    "\n",
    "# Most popular genres in JP\n",
    "genres_jp = regions_genre['jp_sales'].sort_values(ascending=False).reset_index()"
   ]
  },
  {
   "cell_type": "markdown",
   "metadata": {},
   "source": [
    "En la tabla de abajo se muestran los 5 géneros más vendidas por región, además se muestran las ventas individuales por género."
   ]
  },
  {
   "cell_type": "code",
   "execution_count": 50,
   "metadata": {},
   "outputs": [
    {
     "data": {
      "text/html": [
       "<div>\n",
       "<style scoped>\n",
       "    .dataframe tbody tr th:only-of-type {\n",
       "        vertical-align: middle;\n",
       "    }\n",
       "\n",
       "    .dataframe tbody tr th {\n",
       "        vertical-align: top;\n",
       "    }\n",
       "\n",
       "    .dataframe thead th {\n",
       "        text-align: right;\n",
       "    }\n",
       "</style>\n",
       "<table border=\"1\" class=\"dataframe\">\n",
       "  <thead>\n",
       "    <tr style=\"text-align: right;\">\n",
       "      <th></th>\n",
       "      <th>genre</th>\n",
       "      <th>na_sales</th>\n",
       "      <th>genre</th>\n",
       "      <th>eu_sales</th>\n",
       "      <th>genre</th>\n",
       "      <th>jp_sales</th>\n",
       "    </tr>\n",
       "  </thead>\n",
       "  <tbody>\n",
       "    <tr>\n",
       "      <th>0</th>\n",
       "      <td>action</td>\n",
       "      <td>738.91</td>\n",
       "      <td>action</td>\n",
       "      <td>460.78</td>\n",
       "      <td>role-playing</td>\n",
       "      <td>312.01</td>\n",
       "    </tr>\n",
       "    <tr>\n",
       "      <th>1</th>\n",
       "      <td>sports</td>\n",
       "      <td>590.23</td>\n",
       "      <td>sports</td>\n",
       "      <td>330.42</td>\n",
       "      <td>action</td>\n",
       "      <td>138.94</td>\n",
       "    </tr>\n",
       "    <tr>\n",
       "      <th>2</th>\n",
       "      <td>shooter</td>\n",
       "      <td>504.18</td>\n",
       "      <td>shooter</td>\n",
       "      <td>294.30</td>\n",
       "      <td>misc</td>\n",
       "      <td>98.07</td>\n",
       "    </tr>\n",
       "    <tr>\n",
       "      <th>3</th>\n",
       "      <td>misc</td>\n",
       "      <td>371.49</td>\n",
       "      <td>racing</td>\n",
       "      <td>220.56</td>\n",
       "      <td>sports</td>\n",
       "      <td>97.63</td>\n",
       "    </tr>\n",
       "    <tr>\n",
       "      <th>4</th>\n",
       "      <td>racing</td>\n",
       "      <td>324.68</td>\n",
       "      <td>misc</td>\n",
       "      <td>199.94</td>\n",
       "      <td>platform</td>\n",
       "      <td>76.87</td>\n",
       "    </tr>\n",
       "  </tbody>\n",
       "</table>\n",
       "</div>"
      ],
      "text/plain": [
       "     genre  na_sales    genre  eu_sales         genre  jp_sales\n",
       "0   action    738.91   action    460.78  role-playing    312.01\n",
       "1   sports    590.23   sports    330.42        action    138.94\n",
       "2  shooter    504.18  shooter    294.30          misc     98.07\n",
       "3     misc    371.49   racing    220.56        sports     97.63\n",
       "4   racing    324.68     misc    199.94      platform     76.87"
      ]
     },
     "execution_count": 50,
     "metadata": {},
     "output_type": "execute_result"
    }
   ],
   "source": [
    "# Concatenate the three DataFrames\n",
    "genres_na_eu_jp = pd.concat([genres_na,genres_eu,genres_jp],axis='columns')\n",
    "genres_na_eu_jp = genres_na_eu_jp.loc[0:4]\n",
    "genres_na_eu_jp"
   ]
  },
  {
   "cell_type": "markdown",
   "metadata": {},
   "source": [
    "**Conclusiones:** El género más vendido en NA y EU es 'action', mientras que el más vendido en JP es 'role-playing'."
   ]
  },
  {
   "cell_type": "markdown",
   "metadata": {},
   "source": [
    "Al analizar las ventas por región considerando plataforma y género, se tiene lo siguiente. Las métricas por platforma son:"
   ]
  },
  {
   "cell_type": "code",
   "execution_count": 51,
   "metadata": {},
   "outputs": [
    {
     "data": {
      "text/html": [
       "<div>\n",
       "<style scoped>\n",
       "    .dataframe tbody tr th:only-of-type {\n",
       "        vertical-align: middle;\n",
       "    }\n",
       "\n",
       "    .dataframe tbody tr th {\n",
       "        vertical-align: top;\n",
       "    }\n",
       "\n",
       "    .dataframe thead th {\n",
       "        text-align: right;\n",
       "    }\n",
       "</style>\n",
       "<table border=\"1\" class=\"dataframe\">\n",
       "  <thead>\n",
       "    <tr style=\"text-align: right;\">\n",
       "      <th></th>\n",
       "      <th>na_sales</th>\n",
       "      <th>eu_sales</th>\n",
       "      <th>jp_sales</th>\n",
       "    </tr>\n",
       "  </thead>\n",
       "  <tbody>\n",
       "    <tr>\n",
       "      <th>count</th>\n",
       "      <td>5.000000</td>\n",
       "      <td>5.000000</td>\n",
       "      <td>5.000000</td>\n",
       "    </tr>\n",
       "    <tr>\n",
       "      <th>mean</th>\n",
       "      <td>456.108000</td>\n",
       "      <td>267.996000</td>\n",
       "      <td>124.192000</td>\n",
       "    </tr>\n",
       "    <tr>\n",
       "      <th>std</th>\n",
       "      <td>109.692942</td>\n",
       "      <td>45.332935</td>\n",
       "      <td>39.119318</td>\n",
       "    </tr>\n",
       "    <tr>\n",
       "      <th>min</th>\n",
       "      <td>336.170000</td>\n",
       "      <td>207.990000</td>\n",
       "      <td>72.310000</td>\n",
       "    </tr>\n",
       "    <tr>\n",
       "      <th>25%</th>\n",
       "      <td>356.180000</td>\n",
       "      <td>248.700000</td>\n",
       "      <td>100.440000</td>\n",
       "    </tr>\n",
       "    <tr>\n",
       "      <th>50%</th>\n",
       "      <td>460.010000</td>\n",
       "      <td>261.000000</td>\n",
       "      <td>136.460000</td>\n",
       "    </tr>\n",
       "    <tr>\n",
       "      <th>75%</th>\n",
       "      <td>549.530000</td>\n",
       "      <td>295.740000</td>\n",
       "      <td>137.070000</td>\n",
       "    </tr>\n",
       "    <tr>\n",
       "      <th>max</th>\n",
       "      <td>578.650000</td>\n",
       "      <td>326.550000</td>\n",
       "      <td>174.680000</td>\n",
       "    </tr>\n",
       "  </tbody>\n",
       "</table>\n",
       "</div>"
      ],
      "text/plain": [
       "         na_sales    eu_sales    jp_sales\n",
       "count    5.000000    5.000000    5.000000\n",
       "mean   456.108000  267.996000  124.192000\n",
       "std    109.692942   45.332935   39.119318\n",
       "min    336.170000  207.990000   72.310000\n",
       "25%    356.180000  248.700000  100.440000\n",
       "50%    460.010000  261.000000  136.460000\n",
       "75%    549.530000  295.740000  137.070000\n",
       "max    578.650000  326.550000  174.680000"
      ]
     },
     "execution_count": 51,
     "metadata": {},
     "output_type": "execute_result"
    }
   ],
   "source": [
    "# Show DataFrame descriptive statistics\n",
    "region_na_eu_jp.describe()"
   ]
  },
  {
   "cell_type": "markdown",
   "metadata": {},
   "source": [
    "Las métricas por género son:"
   ]
  },
  {
   "cell_type": "code",
   "execution_count": 52,
   "metadata": {},
   "outputs": [
    {
     "data": {
      "text/html": [
       "<div>\n",
       "<style scoped>\n",
       "    .dataframe tbody tr th:only-of-type {\n",
       "        vertical-align: middle;\n",
       "    }\n",
       "\n",
       "    .dataframe tbody tr th {\n",
       "        vertical-align: top;\n",
       "    }\n",
       "\n",
       "    .dataframe thead th {\n",
       "        text-align: right;\n",
       "    }\n",
       "</style>\n",
       "<table border=\"1\" class=\"dataframe\">\n",
       "  <thead>\n",
       "    <tr style=\"text-align: right;\">\n",
       "      <th></th>\n",
       "      <th>na_sales</th>\n",
       "      <th>eu_sales</th>\n",
       "      <th>jp_sales</th>\n",
       "    </tr>\n",
       "  </thead>\n",
       "  <tbody>\n",
       "    <tr>\n",
       "      <th>count</th>\n",
       "      <td>5.000000</td>\n",
       "      <td>5.000000</td>\n",
       "      <td>5.000000</td>\n",
       "    </tr>\n",
       "    <tr>\n",
       "      <th>mean</th>\n",
       "      <td>505.898000</td>\n",
       "      <td>301.200000</td>\n",
       "      <td>144.704000</td>\n",
       "    </tr>\n",
       "    <tr>\n",
       "      <th>std</th>\n",
       "      <td>167.567079</td>\n",
       "      <td>103.831103</td>\n",
       "      <td>96.198576</td>\n",
       "    </tr>\n",
       "    <tr>\n",
       "      <th>min</th>\n",
       "      <td>324.680000</td>\n",
       "      <td>199.940000</td>\n",
       "      <td>76.870000</td>\n",
       "    </tr>\n",
       "    <tr>\n",
       "      <th>25%</th>\n",
       "      <td>371.490000</td>\n",
       "      <td>220.560000</td>\n",
       "      <td>97.630000</td>\n",
       "    </tr>\n",
       "    <tr>\n",
       "      <th>50%</th>\n",
       "      <td>504.180000</td>\n",
       "      <td>294.300000</td>\n",
       "      <td>98.070000</td>\n",
       "    </tr>\n",
       "    <tr>\n",
       "      <th>75%</th>\n",
       "      <td>590.230000</td>\n",
       "      <td>330.420000</td>\n",
       "      <td>138.940000</td>\n",
       "    </tr>\n",
       "    <tr>\n",
       "      <th>max</th>\n",
       "      <td>738.910000</td>\n",
       "      <td>460.780000</td>\n",
       "      <td>312.010000</td>\n",
       "    </tr>\n",
       "  </tbody>\n",
       "</table>\n",
       "</div>"
      ],
      "text/plain": [
       "         na_sales    eu_sales    jp_sales\n",
       "count    5.000000    5.000000    5.000000\n",
       "mean   505.898000  301.200000  144.704000\n",
       "std    167.567079  103.831103   96.198576\n",
       "min    324.680000  199.940000   76.870000\n",
       "25%    371.490000  220.560000   97.630000\n",
       "50%    504.180000  294.300000   98.070000\n",
       "75%    590.230000  330.420000  138.940000\n",
       "max    738.910000  460.780000  312.010000"
      ]
     },
     "execution_count": 52,
     "metadata": {},
     "output_type": "execute_result"
    }
   ],
   "source": [
    "# Show DataFrame descriptive statistics\n",
    "genres_na_eu_jp.describe()"
   ]
  },
  {
   "cell_type": "markdown",
   "metadata": {},
   "source": [
    "**Conclusiones:** Se analizará la región NA, el análisis para las otras 2 regiones es similar. El promedio de ventas en NA por plataforma es de 456.108 con std de 109.692, mientras que las ventas promedio por género son de 505.898 con std de 167.567. Nótese que hay diferencia si se agrupa por plataforma en vez de por genreo."
   ]
  },
  {
   "cell_type": "markdown",
   "metadata": {},
   "source": [
    "Finalmente, para determinar si las clasificaciones de ESRB afectan a las ventas en general, se agrupará por 'rating' y por 'year_of_release' y se obtendran las ventas totales respecto al rating y al tiempo."
   ]
  },
  {
   "cell_type": "code",
   "execution_count": 53,
   "metadata": {},
   "outputs": [
    {
     "data": {
      "text/html": [
       "<div>\n",
       "<style scoped>\n",
       "    .dataframe tbody tr th:only-of-type {\n",
       "        vertical-align: middle;\n",
       "    }\n",
       "\n",
       "    .dataframe tbody tr th {\n",
       "        vertical-align: top;\n",
       "    }\n",
       "\n",
       "    .dataframe thead th {\n",
       "        text-align: right;\n",
       "    }\n",
       "</style>\n",
       "<table border=\"1\" class=\"dataframe\">\n",
       "  <thead>\n",
       "    <tr style=\"text-align: right;\">\n",
       "      <th>platform_group</th>\n",
       "      <th>Nintendo</th>\n",
       "      <th>Other</th>\n",
       "      <th>PC</th>\n",
       "      <th>PlayStation</th>\n",
       "      <th>XBox</th>\n",
       "    </tr>\n",
       "  </thead>\n",
       "  <tbody>\n",
       "    <tr>\n",
       "      <th>count</th>\n",
       "      <td>5.000000</td>\n",
       "      <td>3.000000</td>\n",
       "      <td>7.000000</td>\n",
       "      <td>6.000000</td>\n",
       "      <td>5.000000</td>\n",
       "    </tr>\n",
       "    <tr>\n",
       "      <th>mean</th>\n",
       "      <td>355.496000</td>\n",
       "      <td>1.516667</td>\n",
       "      <td>28.942857</td>\n",
       "      <td>399.935000</td>\n",
       "      <td>242.058000</td>\n",
       "    </tr>\n",
       "    <tr>\n",
       "      <th>std</th>\n",
       "      <td>517.625631</td>\n",
       "      <td>1.562509</td>\n",
       "      <td>38.179810</td>\n",
       "      <td>383.960981</td>\n",
       "      <td>210.688927</td>\n",
       "    </tr>\n",
       "    <tr>\n",
       "      <th>min</th>\n",
       "      <td>1.420000</td>\n",
       "      <td>0.050000</td>\n",
       "      <td>0.040000</td>\n",
       "      <td>0.240000</td>\n",
       "      <td>1.960000</td>\n",
       "    </tr>\n",
       "    <tr>\n",
       "      <th>25%</th>\n",
       "      <td>32.230000</td>\n",
       "      <td>0.695000</td>\n",
       "      <td>1.250000</td>\n",
       "      <td>42.545000</td>\n",
       "      <td>105.790000</td>\n",
       "    </tr>\n",
       "    <tr>\n",
       "      <th>50%</th>\n",
       "      <td>215.910000</td>\n",
       "      <td>1.340000</td>\n",
       "      <td>10.150000</td>\n",
       "      <td>421.740000</td>\n",
       "      <td>263.420000</td>\n",
       "    </tr>\n",
       "    <tr>\n",
       "      <th>75%</th>\n",
       "      <td>269.640000</td>\n",
       "      <td>2.250000</td>\n",
       "      <td>50.435000</td>\n",
       "      <td>733.660000</td>\n",
       "      <td>281.950000</td>\n",
       "    </tr>\n",
       "    <tr>\n",
       "      <th>max</th>\n",
       "      <td>1258.280000</td>\n",
       "      <td>3.160000</td>\n",
       "      <td>89.040000</td>\n",
       "      <td>802.110000</td>\n",
       "      <td>557.170000</td>\n",
       "    </tr>\n",
       "  </tbody>\n",
       "</table>\n",
       "</div>"
      ],
      "text/plain": [
       "platform_group     Nintendo     Other         PC  PlayStation        XBox\n",
       "count              5.000000  3.000000   7.000000     6.000000    5.000000\n",
       "mean             355.496000  1.516667  28.942857   399.935000  242.058000\n",
       "std              517.625631  1.562509  38.179810   383.960981  210.688927\n",
       "min                1.420000  0.050000   0.040000     0.240000    1.960000\n",
       "25%               32.230000  0.695000   1.250000    42.545000  105.790000\n",
       "50%              215.910000  1.340000  10.150000   421.740000  263.420000\n",
       "75%              269.640000  2.250000  50.435000   733.660000  281.950000\n",
       "max             1258.280000  3.160000  89.040000   802.110000  557.170000"
      ]
     },
     "execution_count": 53,
     "metadata": {},
     "output_type": "execute_result"
    }
   ],
   "source": [
    "# Group by 'rating' and obtain the total sales in each platform group\n",
    "sales_per_rating = df.pivot_table(\n",
    "    index = 'rating', columns = 'platform_group',\n",
    "    values = 'total_sales', aggfunc = 'sum')\n",
    "\n",
    "sales_per_rating.describe()"
   ]
  },
  {
   "cell_type": "code",
   "execution_count": 54,
   "metadata": {},
   "outputs": [
    {
     "data": {
      "text/html": [
       "<div>\n",
       "<style scoped>\n",
       "    .dataframe tbody tr th:only-of-type {\n",
       "        vertical-align: middle;\n",
       "    }\n",
       "\n",
       "    .dataframe tbody tr th {\n",
       "        vertical-align: top;\n",
       "    }\n",
       "\n",
       "    .dataframe thead th {\n",
       "        text-align: right;\n",
       "    }\n",
       "</style>\n",
       "<table border=\"1\" class=\"dataframe\">\n",
       "  <thead>\n",
       "    <tr style=\"text-align: right;\">\n",
       "      <th>platform_group</th>\n",
       "      <th>Nintendo</th>\n",
       "      <th>Other</th>\n",
       "      <th>PC</th>\n",
       "      <th>PlayStation</th>\n",
       "      <th>XBox</th>\n",
       "    </tr>\n",
       "  </thead>\n",
       "  <tbody>\n",
       "    <tr>\n",
       "      <th>count</th>\n",
       "      <td>22.000000</td>\n",
       "      <td>10.000000</td>\n",
       "      <td>22.000000</td>\n",
       "      <td>22.000000</td>\n",
       "      <td>17.000000</td>\n",
       "    </tr>\n",
       "    <tr>\n",
       "      <th>mean</th>\n",
       "      <td>126.411818</td>\n",
       "      <td>4.772000</td>\n",
       "      <td>10.900909</td>\n",
       "      <td>150.015455</td>\n",
       "      <td>77.374118</td>\n",
       "    </tr>\n",
       "    <tr>\n",
       "      <th>std</th>\n",
       "      <td>87.932688</td>\n",
       "      <td>4.099745</td>\n",
       "      <td>7.947798</td>\n",
       "      <td>44.760665</td>\n",
       "      <td>45.870752</td>\n",
       "    </tr>\n",
       "    <tr>\n",
       "      <th>min</th>\n",
       "      <td>19.140000</td>\n",
       "      <td>0.020000</td>\n",
       "      <td>2.850000</td>\n",
       "      <td>35.960000</td>\n",
       "      <td>0.990000</td>\n",
       "    </tr>\n",
       "    <tr>\n",
       "      <th>25%</th>\n",
       "      <td>64.570000</td>\n",
       "      <td>0.555000</td>\n",
       "      <td>4.867500</td>\n",
       "      <td>126.597500</td>\n",
       "      <td>54.790000</td>\n",
       "    </tr>\n",
       "    <tr>\n",
       "      <th>50%</th>\n",
       "      <td>96.305000</td>\n",
       "      <td>6.190000</td>\n",
       "      <td>9.060000</td>\n",
       "      <td>163.480000</td>\n",
       "      <td>64.850000</td>\n",
       "    </tr>\n",
       "    <tr>\n",
       "      <th>75%</th>\n",
       "      <td>171.330000</td>\n",
       "      <td>7.092500</td>\n",
       "      <td>12.410000</td>\n",
       "      <td>173.915000</td>\n",
       "      <td>99.740000</td>\n",
       "    </tr>\n",
       "    <tr>\n",
       "      <th>max</th>\n",
       "      <td>300.540000</td>\n",
       "      <td>11.940000</td>\n",
       "      <td>35.030000</td>\n",
       "      <td>218.870000</td>\n",
       "      <td>170.030000</td>\n",
       "    </tr>\n",
       "  </tbody>\n",
       "</table>\n",
       "</div>"
      ],
      "text/plain": [
       "platform_group    Nintendo      Other         PC  PlayStation        XBox\n",
       "count            22.000000  10.000000  22.000000    22.000000   17.000000\n",
       "mean            126.411818   4.772000  10.900909   150.015455   77.374118\n",
       "std              87.932688   4.099745   7.947798    44.760665   45.870752\n",
       "min              19.140000   0.020000   2.850000    35.960000    0.990000\n",
       "25%              64.570000   0.555000   4.867500   126.597500   54.790000\n",
       "50%              96.305000   6.190000   9.060000   163.480000   64.850000\n",
       "75%             171.330000   7.092500  12.410000   173.915000   99.740000\n",
       "max             300.540000  11.940000  35.030000   218.870000  170.030000"
      ]
     },
     "execution_count": 54,
     "metadata": {},
     "output_type": "execute_result"
    }
   ],
   "source": [
    "# Group by 'year_of_release' column 'platform_group' and obtain the total sales\n",
    "sales_per_platform = df.pivot_table(\n",
    "    index = 'year_of_release', columns = 'platform_group',\n",
    "    values = 'total_sales', aggfunc = 'sum')\n",
    "\n",
    "sales_per_platform.describe()"
   ]
  },
  {
   "cell_type": "markdown",
   "metadata": {},
   "source": [
    "**Conclusiones:** Para la plataforma Nintendo, el promedio de ventas considerando el rating es de 355.49 con std de 517.625, mientras que las ventas promedio a lo largo de los años es de 126.411 con std de 87.932, entonces mean_Nintendo = 355.49/126.411 = **2.812** y std_Nintendo = 517.625/87.932 = **5.886**. Ahora, para la plataforma XBox, mean_XBox = 242.058/77.374 = **3.128** y std_XBox = 210.688/45.87 = **4.593**. Así sucesivamente con las otras plataformas, la proporción en las métricas se mantiene, por lo tanto, se concluye que el rating no afecta significativamente las ventas totales."
   ]
  },
  {
   "cell_type": "markdown",
   "metadata": {},
   "source": [
    "## Prueba de hipótesis"
   ]
  },
  {
   "cell_type": "markdown",
   "metadata": {},
   "source": [
    "La prueba T se usa para determinar si los promedios de 2 muestras son iguales, independientemente si las muestras tienen distribución normal o no. En este análisis se usará la prueba de Levene para complementar la prueba T y se usará un umbral de significación alpha = 5% para ambas pruebas."
   ]
  },
  {
   "cell_type": "code",
   "execution_count": 55,
   "metadata": {},
   "outputs": [],
   "source": [
    "# Umbral alpha for the T-test\n",
    "alpha = 0.05"
   ]
  },
  {
   "cell_type": "code",
   "execution_count": 56,
   "metadata": {},
   "outputs": [],
   "source": [
    "# Extract samples\n",
    "sample_xone = df.loc[df['platform'] == 'xone', 'user_score']\n",
    "sample_pc = df.loc[df['platform'] == 'pc', 'user_score']"
   ]
  },
  {
   "cell_type": "markdown",
   "metadata": {},
   "source": [
    "**Hipótesis 1:** Las calificaciones promedio de los usuarios (User_score) para las plataformas Xbox One y PC son las mismas."
   ]
  },
  {
   "cell_type": "markdown",
   "metadata": {},
   "source": [
    "Hipótesis nula (H0): User_score promedio de Xbox One = User_score promedio de PC"
   ]
  },
  {
   "cell_type": "markdown",
   "metadata": {},
   "source": [
    "Hipótesis alternativa (H1): User_score promedio de Xbox One != User_score promedio de PC"
   ]
  },
  {
   "cell_type": "code",
   "execution_count": 57,
   "metadata": {},
   "outputs": [
    {
     "name": "stdout",
     "output_type": "stream",
     "text": [
      "Levene test p-value: 0.15228571260967888\n",
      "Variances are the same\n",
      "Sample_xone variance: 1.531\n",
      "Sample_pc variance: 1.850\n"
     ]
    }
   ],
   "source": [
    "# Verify equal variances (Levene test)\n",
    "levene = st.levene(sample_xone, sample_pc)\n",
    "print(\"Levene test p-value:\", levene.pvalue)\n",
    "print(\"Variances are different\" if levene.pvalue < alpha else \"Variances are the same\")\n",
    "\n",
    "# Show samples variances (optional)\n",
    "print(f\"Sample_xone variance: {np.var(sample_xone):.3f}\")\n",
    "print(f\"Sample_pc variance: {np.var(sample_pc):.3f}\")"
   ]
  },
  {
   "cell_type": "code",
   "execution_count": 58,
   "metadata": {},
   "outputs": [
    {
     "name": "stdout",
     "output_type": "stream",
     "text": [
      "T-test p-value: 0.0006630549118666682\n",
      "H0 is rejected\n"
     ]
    }
   ],
   "source": [
    "# T-test, variances are the same, then 'equal_var=True'\n",
    "prove1 = st.ttest_ind(sample_xone, sample_pc, alternative = 'two-sided',equal_var=True)\n",
    "print(\"T-test p-value:\", prove1.pvalue)\n",
    "\n",
    "# Conclusion of T-test\n",
    "print(\"H0 is rejected\" if prove1.pvalue < alpha else \"H0 cannot be rejected\")"
   ]
  },
  {
   "cell_type": "markdown",
   "metadata": {},
   "source": [
    "**Conclusión:** La hipótesis nula 1 es rechazada."
   ]
  },
  {
   "cell_type": "markdown",
   "metadata": {},
   "source": [
    "**Hipótesis 2:** Las calificaciones promedio de los usuarios (User_score) para los géneros de Acción y Deportes son diferentes. Se hará el mismo procedimiento mostrado anteriormente.\n",
    "\n",
    "Por convención, H0 debe expresar igualdad, entonces al final de la prueba se invertirá el resultado."
   ]
  },
  {
   "cell_type": "markdown",
   "metadata": {},
   "source": [
    "Hipótesis nula (H0): User_score promedio de action = User_score promedio de sports"
   ]
  },
  {
   "cell_type": "markdown",
   "metadata": {},
   "source": [
    "Hipótesis alternativa (H1): User_score promedio de action != User_score promedio de sports"
   ]
  },
  {
   "cell_type": "code",
   "execution_count": 59,
   "metadata": {},
   "outputs": [],
   "source": [
    "# Extract samples\n",
    "sample_action = df.loc[df['genre'] == 'action', 'user_score']\n",
    "sample_sports = df.loc[df['genre'] == 'sports', 'user_score']"
   ]
  },
  {
   "cell_type": "code",
   "execution_count": 60,
   "metadata": {},
   "outputs": [
    {
     "name": "stdout",
     "output_type": "stream",
     "text": [
      "Levene test p-value: 0.24440777038011688\n",
      "Variances are the same\n",
      "Sample_action variance: 1.102\n",
      "Sample_sports variance: 1.120\n"
     ]
    }
   ],
   "source": [
    "# Verify equal variances (Levene test)\n",
    "levene2 = st.levene(sample_action, sample_sports)\n",
    "print(\"Levene test p-value:\", levene2.pvalue)\n",
    "print(\"Variances are different\" if levene2.pvalue < alpha else \"Variances are the same\")\n",
    "\n",
    "# Show samples variances (optional)\n",
    "print(f\"Sample_action variance: {np.var(sample_action):.3f}\")\n",
    "print(f\"Sample_sports variance: {np.var(sample_sports):.3f}\")"
   ]
  },
  {
   "cell_type": "code",
   "execution_count": 61,
   "metadata": {},
   "outputs": [
    {
     "name": "stdout",
     "output_type": "stream",
     "text": [
      "T-test p-value: 0.6405444830931064\n",
      "H0 cannot be rejected\n"
     ]
    }
   ],
   "source": [
    "# T-test 2, variances are the same, then 'equal_var=True'\n",
    "prove2 = st.ttest_ind(sample_action, sample_sports,alternative='two-sided',equal_var=True)\n",
    "print(\"T-test p-value:\", prove2.pvalue)\n",
    "\n",
    "# Conclusion of T-test\n",
    "print(\"H0 is rejected\" if prove2.pvalue < alpha else \"H0 cannot be rejected\")"
   ]
  },
  {
   "cell_type": "markdown",
   "metadata": {},
   "source": [
    "**Conclusión:** H0 (User_score promedio de action = User_score promedio de sports) no es rechazada, entonces la hipótesis 2 (las calificaciones promedio de los usuarios (User_score) para los géneros de Acción y Deportes son diferentes), es rechazada."
   ]
  },
  {
   "cell_type": "markdown",
   "metadata": {},
   "source": [
    "## Conclusiones generales"
   ]
  },
  {
   "cell_type": "markdown",
   "metadata": {},
   "source": [
    "Del análisis mostrado anteriormente se concluye que el juego más vendido de todos los tiempos es el \"ps2\" de la empresa “PlayStation”, la cual va en ascenso en sus ventas. Se concluye también que un juego tarda aproximadamente 7 años en volverse o dejar de ser popular. Finlmente, se mostró que el ni las reseñas profesionales ni las reseñas de los usuarios ni la región de venta afectan significativamente las ventas de los juegos de acción de las diferentes plataformas."
   ]
  }
 ],
 "metadata": {
  "ExecuteTimeLog": [
   {
    "duration": 2516,
    "start_time": "2025-04-15T16:18:14.310Z"
   },
   {
    "duration": 35,
    "start_time": "2025-04-15T16:22:45.936Z"
   },
   {
    "duration": 3,
    "start_time": "2025-04-15T16:24:31.144Z"
   },
   {
    "duration": 13,
    "start_time": "2025-04-15T16:27:08.666Z"
   },
   {
    "duration": 16,
    "start_time": "2025-04-15T16:30:32.681Z"
   },
   {
    "duration": 16,
    "start_time": "2025-04-15T16:31:49.992Z"
   },
   {
    "duration": 21,
    "start_time": "2025-04-15T16:33:03.668Z"
   },
   {
    "duration": 20,
    "start_time": "2025-04-15T16:33:09.762Z"
   },
   {
    "duration": 20,
    "start_time": "2025-04-15T16:33:17.931Z"
   },
   {
    "duration": 14,
    "start_time": "2025-04-15T16:33:54.525Z"
   },
   {
    "duration": 15,
    "start_time": "2025-04-15T16:34:59.633Z"
   },
   {
    "duration": 14,
    "start_time": "2025-04-15T16:35:06.769Z"
   },
   {
    "duration": 9,
    "start_time": "2025-04-15T16:52:29.305Z"
   },
   {
    "duration": 3,
    "start_time": "2025-04-15T16:52:34.578Z"
   },
   {
    "duration": 327,
    "start_time": "2025-04-15T16:53:07.606Z"
   },
   {
    "duration": 2,
    "start_time": "2025-04-15T16:54:42.068Z"
   },
   {
    "duration": 29,
    "start_time": "2025-04-15T16:54:45.939Z"
   },
   {
    "duration": 3,
    "start_time": "2025-04-15T16:55:04.638Z"
   },
   {
    "duration": 115,
    "start_time": "2025-04-15T16:55:06.888Z"
   },
   {
    "duration": 28,
    "start_time": "2025-04-15T16:56:11.362Z"
   },
   {
    "duration": 4,
    "start_time": "2025-04-15T16:57:34.456Z"
   },
   {
    "duration": 10,
    "start_time": "2025-04-15T16:57:37.775Z"
   },
   {
    "duration": 6,
    "start_time": "2025-04-15T16:58:46.387Z"
   },
   {
    "duration": 25,
    "start_time": "2025-04-15T16:58:47.315Z"
   },
   {
    "duration": 7,
    "start_time": "2025-04-15T16:59:14.301Z"
   },
   {
    "duration": 8,
    "start_time": "2025-04-15T16:59:31.194Z"
   },
   {
    "duration": 6,
    "start_time": "2025-04-15T17:01:39.332Z"
   },
   {
    "duration": 15,
    "start_time": "2025-04-15T17:01:39.967Z"
   },
   {
    "duration": 6,
    "start_time": "2025-04-15T17:01:41.419Z"
   },
   {
    "duration": 15,
    "start_time": "2025-04-15T17:05:25.802Z"
   },
   {
    "duration": 7,
    "start_time": "2025-04-15T17:05:27.243Z"
   },
   {
    "duration": 563,
    "start_time": "2025-04-15T17:05:45.248Z"
   },
   {
    "duration": 6,
    "start_time": "2025-04-15T17:07:07.749Z"
   },
   {
    "duration": 2,
    "start_time": "2025-04-15T17:09:17.441Z"
   },
   {
    "duration": 3,
    "start_time": "2025-04-15T17:14:54.060Z"
   },
   {
    "duration": 14,
    "start_time": "2025-04-15T17:14:55.908Z"
   },
   {
    "duration": 3,
    "start_time": "2025-04-15T17:15:02.942Z"
   },
   {
    "duration": 5,
    "start_time": "2025-04-15T17:15:04.864Z"
   },
   {
    "duration": 13,
    "start_time": "2025-04-15T17:15:07.866Z"
   },
   {
    "duration": 8,
    "start_time": "2025-04-15T17:15:09.724Z"
   },
   {
    "duration": 3,
    "start_time": "2025-04-15T17:19:14.656Z"
   },
   {
    "duration": 4,
    "start_time": "2025-04-15T17:19:15.233Z"
   },
   {
    "duration": 6,
    "start_time": "2025-04-15T17:19:15.938Z"
   },
   {
    "duration": 14,
    "start_time": "2025-04-15T17:19:19.889Z"
   },
   {
    "duration": 7,
    "start_time": "2025-04-15T17:19:21.540Z"
   },
   {
    "duration": 52,
    "start_time": "2025-04-15T17:21:03.104Z"
   },
   {
    "duration": 2,
    "start_time": "2025-04-15T17:21:35.871Z"
   },
   {
    "duration": 56,
    "start_time": "2025-04-15T17:23:41.124Z"
   },
   {
    "duration": 740,
    "start_time": "2025-04-15T17:23:54.845Z"
   },
   {
    "duration": 25,
    "start_time": "2025-04-15T17:23:55.589Z"
   },
   {
    "duration": 16,
    "start_time": "2025-04-15T17:23:55.615Z"
   },
   {
    "duration": 3,
    "start_time": "2025-04-15T17:23:55.644Z"
   },
   {
    "duration": 4,
    "start_time": "2025-04-15T17:23:55.648Z"
   },
   {
    "duration": 6,
    "start_time": "2025-04-15T17:23:55.653Z"
   },
   {
    "duration": 14,
    "start_time": "2025-04-15T17:23:55.660Z"
   },
   {
    "duration": 7,
    "start_time": "2025-04-15T17:23:55.675Z"
   },
   {
    "duration": 837,
    "start_time": "2025-04-15T17:23:55.684Z"
   },
   {
    "duration": 0,
    "start_time": "2025-04-15T17:23:56.523Z"
   },
   {
    "duration": 470,
    "start_time": "2025-04-15T17:37:38.631Z"
   },
   {
    "duration": 10,
    "start_time": "2025-04-15T17:38:06.320Z"
   },
   {
    "duration": 9,
    "start_time": "2025-04-15T17:38:26.393Z"
   },
   {
    "duration": 9,
    "start_time": "2025-04-15T17:38:31.348Z"
   },
   {
    "duration": 9,
    "start_time": "2025-04-15T17:40:53.089Z"
   },
   {
    "duration": 9,
    "start_time": "2025-04-15T17:41:19.724Z"
   },
   {
    "duration": 4,
    "start_time": "2025-04-15T17:42:29.213Z"
   },
   {
    "duration": 10,
    "start_time": "2025-04-15T17:42:38.643Z"
   },
   {
    "duration": 12,
    "start_time": "2025-04-15T17:56:31.714Z"
   },
   {
    "duration": 3,
    "start_time": "2025-04-15T18:01:41.023Z"
   },
   {
    "duration": 4,
    "start_time": "2025-04-15T18:02:12.984Z"
   },
   {
    "duration": 7,
    "start_time": "2025-04-15T18:05:02.152Z"
   },
   {
    "duration": 5,
    "start_time": "2025-04-15T18:07:31.836Z"
   },
   {
    "duration": 7,
    "start_time": "2025-04-15T18:07:43.971Z"
   },
   {
    "duration": 4,
    "start_time": "2025-04-15T18:07:56.180Z"
   },
   {
    "duration": 130,
    "start_time": "2025-04-15T18:09:36.114Z"
   },
   {
    "duration": 113,
    "start_time": "2025-04-15T18:09:47.228Z"
   },
   {
    "duration": 4,
    "start_time": "2025-04-15T18:10:20.763Z"
   },
   {
    "duration": 119,
    "start_time": "2025-04-15T18:10:25.664Z"
   },
   {
    "duration": 105,
    "start_time": "2025-04-15T18:14:49.555Z"
   },
   {
    "duration": 189,
    "start_time": "2025-04-15T18:15:05.809Z"
   },
   {
    "duration": 27147,
    "start_time": "2025-04-15T18:16:10.556Z"
   },
   {
    "duration": 200,
    "start_time": "2025-04-15T18:17:35.474Z"
   },
   {
    "duration": 194,
    "start_time": "2025-04-15T18:20:06.177Z"
   },
   {
    "duration": 12,
    "start_time": "2025-04-15T18:30:31.927Z"
   },
   {
    "duration": 45,
    "start_time": "2025-04-15T18:30:42.473Z"
   },
   {
    "duration": 11,
    "start_time": "2025-04-15T18:31:31.169Z"
   },
   {
    "duration": 2757,
    "start_time": "2025-04-15T18:32:14.725Z"
   },
   {
    "duration": 43,
    "start_time": "2025-04-15T18:35:04.885Z"
   },
   {
    "duration": 9,
    "start_time": "2025-04-15T19:14:41.383Z"
   },
   {
    "duration": 12,
    "start_time": "2025-04-15T19:16:55.338Z"
   },
   {
    "duration": 18,
    "start_time": "2025-04-15T19:17:41.555Z"
   },
   {
    "duration": 13,
    "start_time": "2025-04-15T19:19:08.625Z"
   },
   {
    "duration": 6,
    "start_time": "2025-04-15T19:21:55.734Z"
   },
   {
    "duration": 9,
    "start_time": "2025-04-15T19:23:53.234Z"
   },
   {
    "duration": 6,
    "start_time": "2025-04-15T19:37:14.844Z"
   },
   {
    "duration": 17,
    "start_time": "2025-04-15T19:37:42.372Z"
   },
   {
    "duration": 8,
    "start_time": "2025-04-15T19:37:58.498Z"
   },
   {
    "duration": 204,
    "start_time": "2025-04-15T19:47:57.625Z"
   },
   {
    "duration": 195,
    "start_time": "2025-04-15T19:48:56.005Z"
   },
   {
    "duration": 13,
    "start_time": "2025-04-15T20:04:34.801Z"
   },
   {
    "duration": 12,
    "start_time": "2025-04-15T20:05:25.881Z"
   },
   {
    "duration": 12,
    "start_time": "2025-04-15T20:05:39.729Z"
   },
   {
    "duration": 13,
    "start_time": "2025-04-15T20:05:53.904Z"
   },
   {
    "duration": 16,
    "start_time": "2025-04-15T20:08:08.403Z"
   },
   {
    "duration": 14,
    "start_time": "2025-04-15T20:08:26.470Z"
   },
   {
    "duration": 4,
    "start_time": "2025-04-15T20:09:03.914Z"
   },
   {
    "duration": 251,
    "start_time": "2025-04-15T20:09:11.743Z"
   },
   {
    "duration": 12,
    "start_time": "2025-04-15T20:12:33.910Z"
   },
   {
    "duration": 10,
    "start_time": "2025-04-15T20:16:53.895Z"
   },
   {
    "duration": 13,
    "start_time": "2025-04-15T20:17:24.673Z"
   },
   {
    "duration": 764,
    "start_time": "2025-04-15T20:17:40.009Z"
   },
   {
    "duration": 24,
    "start_time": "2025-04-15T20:17:40.777Z"
   },
   {
    "duration": 15,
    "start_time": "2025-04-15T20:17:40.803Z"
   },
   {
    "duration": 3,
    "start_time": "2025-04-15T20:17:40.820Z"
   },
   {
    "duration": 18,
    "start_time": "2025-04-15T20:17:40.824Z"
   },
   {
    "duration": 5,
    "start_time": "2025-04-15T20:17:40.844Z"
   },
   {
    "duration": 15,
    "start_time": "2025-04-15T20:17:40.851Z"
   },
   {
    "duration": 7,
    "start_time": "2025-04-15T20:17:40.867Z"
   },
   {
    "duration": 8,
    "start_time": "2025-04-15T20:17:40.875Z"
   },
   {
    "duration": 9,
    "start_time": "2025-04-15T20:17:40.886Z"
   },
   {
    "duration": 8,
    "start_time": "2025-04-15T20:17:40.896Z"
   },
   {
    "duration": 45,
    "start_time": "2025-04-15T20:17:40.905Z"
   },
   {
    "duration": 5,
    "start_time": "2025-04-15T20:17:40.951Z"
   },
   {
    "duration": 148,
    "start_time": "2025-04-15T20:17:40.957Z"
   },
   {
    "duration": 210,
    "start_time": "2025-04-15T20:17:41.107Z"
   },
   {
    "duration": 48,
    "start_time": "2025-04-15T20:17:41.318Z"
   },
   {
    "duration": 135,
    "start_time": "2025-04-15T20:17:41.369Z"
   },
   {
    "duration": 672,
    "start_time": "2025-04-15T20:18:37.913Z"
   },
   {
    "duration": 57,
    "start_time": "2025-04-15T20:19:13.134Z"
   },
   {
    "duration": 18,
    "start_time": "2025-04-15T20:26:39.535Z"
   },
   {
    "duration": 6,
    "start_time": "2025-04-15T20:26:51.111Z"
   },
   {
    "duration": 19,
    "start_time": "2025-04-15T20:26:57.789Z"
   },
   {
    "duration": 202,
    "start_time": "2025-04-15T20:33:14.450Z"
   },
   {
    "duration": 196,
    "start_time": "2025-04-15T20:33:41.197Z"
   },
   {
    "duration": 122,
    "start_time": "2025-04-15T22:49:22.473Z"
   },
   {
    "duration": 5,
    "start_time": "2025-04-15T22:53:13.441Z"
   },
   {
    "duration": 5,
    "start_time": "2025-04-15T22:53:22.615Z"
   },
   {
    "duration": 197,
    "start_time": "2025-04-15T22:53:39.794Z"
   },
   {
    "duration": 4,
    "start_time": "2025-04-15T22:55:26.870Z"
   },
   {
    "duration": 181,
    "start_time": "2025-04-15T22:55:30.295Z"
   },
   {
    "duration": 35,
    "start_time": "2025-04-15T22:55:34.683Z"
   },
   {
    "duration": 262,
    "start_time": "2025-04-15T22:57:00.569Z"
   },
   {
    "duration": 4,
    "start_time": "2025-04-15T22:59:48.610Z"
   },
   {
    "duration": 7,
    "start_time": "2025-04-15T23:00:04.456Z"
   },
   {
    "duration": 33,
    "start_time": "2025-04-15T23:05:24.470Z"
   },
   {
    "duration": 54,
    "start_time": "2025-04-15T23:09:04.649Z"
   },
   {
    "duration": 12,
    "start_time": "2025-04-15T23:12:34.384Z"
   },
   {
    "duration": 12,
    "start_time": "2025-04-15T23:13:17.437Z"
   },
   {
    "duration": 47,
    "start_time": "2025-04-15T23:13:44.750Z"
   },
   {
    "duration": 5,
    "start_time": "2025-04-15T23:19:30.099Z"
   },
   {
    "duration": 9,
    "start_time": "2025-04-15T23:19:53.789Z"
   },
   {
    "duration": 192,
    "start_time": "2025-04-15T23:20:01.837Z"
   },
   {
    "duration": 86,
    "start_time": "2025-04-15T23:39:06.048Z"
   },
   {
    "duration": 35,
    "start_time": "2025-04-15T23:39:36.278Z"
   },
   {
    "duration": 91,
    "start_time": "2025-04-15T23:39:40.261Z"
   },
   {
    "duration": 81,
    "start_time": "2025-04-15T23:41:16.749Z"
   },
   {
    "duration": 4,
    "start_time": "2025-04-15T23:49:14.281Z"
   },
   {
    "duration": 205,
    "start_time": "2025-04-15T23:49:19.243Z"
   },
   {
    "duration": 14,
    "start_time": "2025-04-16T00:03:35.923Z"
   },
   {
    "duration": 7,
    "start_time": "2025-04-16T00:07:41.272Z"
   },
   {
    "duration": 7,
    "start_time": "2025-04-16T00:08:03.053Z"
   },
   {
    "duration": 7,
    "start_time": "2025-04-16T00:12:00.317Z"
   },
   {
    "duration": 6,
    "start_time": "2025-04-16T00:14:16.675Z"
   },
   {
    "duration": 7,
    "start_time": "2025-04-16T00:14:40.891Z"
   },
   {
    "duration": 5,
    "start_time": "2025-04-16T00:15:31.083Z"
   },
   {
    "duration": 8,
    "start_time": "2025-04-16T00:16:36.909Z"
   },
   {
    "duration": 8,
    "start_time": "2025-04-16T00:17:40.364Z"
   },
   {
    "duration": 5,
    "start_time": "2025-04-16T00:18:51.100Z"
   },
   {
    "duration": 30,
    "start_time": "2025-04-16T00:20:10.216Z"
   },
   {
    "duration": 11,
    "start_time": "2025-04-16T00:22:21.012Z"
   },
   {
    "duration": 7,
    "start_time": "2025-04-16T00:23:34.606Z"
   },
   {
    "duration": 6,
    "start_time": "2025-04-16T00:25:06.584Z"
   },
   {
    "duration": 5,
    "start_time": "2025-04-16T00:30:23.688Z"
   },
   {
    "duration": 3,
    "start_time": "2025-04-16T00:30:53.145Z"
   },
   {
    "duration": 4,
    "start_time": "2025-04-16T00:39:11.481Z"
   },
   {
    "duration": 3,
    "start_time": "2025-04-16T00:39:22.117Z"
   },
   {
    "duration": 3,
    "start_time": "2025-04-16T00:39:30.052Z"
   },
   {
    "duration": 6,
    "start_time": "2025-04-16T00:39:32.739Z"
   },
   {
    "duration": 20,
    "start_time": "2025-04-16T00:39:35.227Z"
   },
   {
    "duration": 7,
    "start_time": "2025-04-16T00:39:36.501Z"
   },
   {
    "duration": 10,
    "start_time": "2025-04-16T00:41:31.242Z"
   },
   {
    "duration": 8,
    "start_time": "2025-04-16T00:41:51.955Z"
   },
   {
    "duration": 11,
    "start_time": "2025-04-16T00:45:00.253Z"
   },
   {
    "duration": 5,
    "start_time": "2025-04-16T00:45:08.314Z"
   },
   {
    "duration": 5,
    "start_time": "2025-04-16T00:45:49.804Z"
   },
   {
    "duration": 8,
    "start_time": "2025-04-16T00:46:44.891Z"
   },
   {
    "duration": 2,
    "start_time": "2025-04-16T00:47:25.910Z"
   },
   {
    "duration": 30,
    "start_time": "2025-04-16T00:47:26.409Z"
   },
   {
    "duration": 15,
    "start_time": "2025-04-16T00:47:28.153Z"
   },
   {
    "duration": 8,
    "start_time": "2025-04-16T00:47:32.716Z"
   },
   {
    "duration": 7,
    "start_time": "2025-04-16T00:49:20.360Z"
   },
   {
    "duration": 515,
    "start_time": "2025-04-16T00:50:50.435Z"
   },
   {
    "duration": 2,
    "start_time": "2025-04-16T00:51:07.236Z"
   },
   {
    "duration": 24,
    "start_time": "2025-04-16T00:51:07.662Z"
   },
   {
    "duration": 17,
    "start_time": "2025-04-16T00:51:10.344Z"
   },
   {
    "duration": 8,
    "start_time": "2025-04-16T00:51:17.279Z"
   },
   {
    "duration": 51,
    "start_time": "2025-04-16T00:51:28.130Z"
   },
   {
    "duration": 13,
    "start_time": "2025-04-16T00:51:38.460Z"
   },
   {
    "duration": 8,
    "start_time": "2025-04-16T02:40:05.112Z"
   },
   {
    "duration": 107,
    "start_time": "2025-04-16T02:42:05.699Z"
   },
   {
    "duration": 42,
    "start_time": "2025-04-16T02:42:40.442Z"
   },
   {
    "duration": 2,
    "start_time": "2025-04-16T02:44:47.713Z"
   },
   {
    "duration": 24,
    "start_time": "2025-04-16T02:44:50.400Z"
   },
   {
    "duration": 16,
    "start_time": "2025-04-16T02:44:55.033Z"
   },
   {
    "duration": 9,
    "start_time": "2025-04-16T02:45:31.613Z"
   },
   {
    "duration": 9,
    "start_time": "2025-04-16T02:46:36.692Z"
   },
   {
    "duration": 9,
    "start_time": "2025-04-16T02:47:18.982Z"
   },
   {
    "duration": 3,
    "start_time": "2025-04-16T02:51:17.810Z"
   },
   {
    "duration": 3,
    "start_time": "2025-04-16T02:51:27.194Z"
   },
   {
    "duration": 6,
    "start_time": "2025-04-16T02:51:35.764Z"
   },
   {
    "duration": 21,
    "start_time": "2025-04-16T02:51:44.771Z"
   },
   {
    "duration": 8,
    "start_time": "2025-04-16T02:51:47.909Z"
   },
   {
    "duration": 7,
    "start_time": "2025-04-16T02:53:56.309Z"
   },
   {
    "duration": 5,
    "start_time": "2025-04-16T02:54:18.150Z"
   },
   {
    "duration": 5,
    "start_time": "2025-04-16T02:56:30.631Z"
   },
   {
    "duration": 3,
    "start_time": "2025-04-16T02:58:05.030Z"
   },
   {
    "duration": 4,
    "start_time": "2025-04-16T03:05:12.658Z"
   },
   {
    "duration": 14,
    "start_time": "2025-04-16T03:11:29.679Z"
   },
   {
    "duration": 3,
    "start_time": "2025-04-16T03:11:41.415Z"
   },
   {
    "duration": 16,
    "start_time": "2025-04-16T03:11:42.746Z"
   },
   {
    "duration": 15,
    "start_time": "2025-04-16T03:12:01.817Z"
   },
   {
    "duration": 17,
    "start_time": "2025-04-16T03:12:06.382Z"
   },
   {
    "duration": 5,
    "start_time": "2025-04-16T03:15:29.814Z"
   },
   {
    "duration": 8,
    "start_time": "2025-04-16T03:16:04.948Z"
   },
   {
    "duration": 7,
    "start_time": "2025-04-16T03:16:47.443Z"
   },
   {
    "duration": 4,
    "start_time": "2025-04-16T03:17:53.137Z"
   },
   {
    "duration": 5,
    "start_time": "2025-04-16T03:18:01.898Z"
   },
   {
    "duration": 6,
    "start_time": "2025-04-16T03:19:29.021Z"
   },
   {
    "duration": 5,
    "start_time": "2025-04-16T03:21:59.744Z"
   },
   {
    "duration": 6,
    "start_time": "2025-04-16T03:22:50.199Z"
   },
   {
    "duration": 5,
    "start_time": "2025-04-16T03:25:21.519Z"
   },
   {
    "duration": 5,
    "start_time": "2025-04-16T03:25:27.678Z"
   },
   {
    "duration": 7,
    "start_time": "2025-04-16T03:26:00.430Z"
   },
   {
    "duration": 4,
    "start_time": "2025-04-16T03:28:55.333Z"
   },
   {
    "duration": 3,
    "start_time": "2025-04-16T03:29:36.892Z"
   },
   {
    "duration": 3,
    "start_time": "2025-04-16T03:29:44.028Z"
   },
   {
    "duration": 12,
    "start_time": "2025-04-16T03:30:33.343Z"
   },
   {
    "duration": 12,
    "start_time": "2025-04-16T03:31:03.487Z"
   },
   {
    "duration": 16,
    "start_time": "2025-04-16T03:31:25.852Z"
   },
   {
    "duration": 13,
    "start_time": "2025-04-16T03:32:30.583Z"
   },
   {
    "duration": 5,
    "start_time": "2025-04-16T03:36:25.484Z"
   },
   {
    "duration": 5,
    "start_time": "2025-04-16T03:40:24.080Z"
   },
   {
    "duration": 7,
    "start_time": "2025-04-16T03:44:44.017Z"
   },
   {
    "duration": 8,
    "start_time": "2025-04-16T03:48:12.181Z"
   },
   {
    "duration": 6,
    "start_time": "2025-04-16T03:48:53.264Z"
   },
   {
    "duration": 5,
    "start_time": "2025-04-16T03:49:11.668Z"
   },
   {
    "duration": 5,
    "start_time": "2025-04-16T04:01:28.792Z"
   },
   {
    "duration": 20,
    "start_time": "2025-04-16T04:07:31.617Z"
   },
   {
    "duration": 16,
    "start_time": "2025-04-16T04:08:40.989Z"
   },
   {
    "duration": 7,
    "start_time": "2025-04-16T04:13:30.355Z"
   },
   {
    "duration": 8,
    "start_time": "2025-04-16T04:13:54.197Z"
   },
   {
    "duration": 6,
    "start_time": "2025-04-16T04:14:37.819Z"
   },
   {
    "duration": 5,
    "start_time": "2025-04-16T04:15:00.072Z"
   },
   {
    "duration": 6,
    "start_time": "2025-04-16T04:20:13.955Z"
   },
   {
    "duration": 10,
    "start_time": "2025-04-16T04:24:16.313Z"
   },
   {
    "duration": 779,
    "start_time": "2025-04-16T04:25:18.696Z"
   },
   {
    "duration": 24,
    "start_time": "2025-04-16T04:25:19.478Z"
   },
   {
    "duration": 15,
    "start_time": "2025-04-16T04:25:19.504Z"
   },
   {
    "duration": 7,
    "start_time": "2025-04-16T04:25:19.521Z"
   },
   {
    "duration": 23,
    "start_time": "2025-04-16T04:25:19.530Z"
   },
   {
    "duration": 3,
    "start_time": "2025-04-16T04:25:19.554Z"
   },
   {
    "duration": 3,
    "start_time": "2025-04-16T04:25:19.559Z"
   },
   {
    "duration": 5,
    "start_time": "2025-04-16T04:25:19.563Z"
   },
   {
    "duration": 20,
    "start_time": "2025-04-16T04:25:19.569Z"
   },
   {
    "duration": 14,
    "start_time": "2025-04-16T04:25:19.593Z"
   },
   {
    "duration": 37,
    "start_time": "2025-04-16T04:25:19.609Z"
   },
   {
    "duration": 4,
    "start_time": "2025-04-16T04:25:19.648Z"
   },
   {
    "duration": 18,
    "start_time": "2025-04-16T04:25:19.653Z"
   },
   {
    "duration": 4,
    "start_time": "2025-04-16T04:25:19.672Z"
   },
   {
    "duration": 5,
    "start_time": "2025-04-16T04:25:19.678Z"
   },
   {
    "duration": 4,
    "start_time": "2025-04-16T04:25:19.685Z"
   },
   {
    "duration": 7,
    "start_time": "2025-04-16T04:25:19.690Z"
   },
   {
    "duration": 45,
    "start_time": "2025-04-16T04:25:19.698Z"
   },
   {
    "duration": 6,
    "start_time": "2025-04-16T04:25:19.745Z"
   },
   {
    "duration": 5,
    "start_time": "2025-04-16T04:25:19.753Z"
   },
   {
    "duration": 5,
    "start_time": "2025-04-16T04:25:19.759Z"
   },
   {
    "duration": 7,
    "start_time": "2025-04-16T04:25:19.766Z"
   },
   {
    "duration": 9,
    "start_time": "2025-04-16T04:25:19.774Z"
   },
   {
    "duration": 8,
    "start_time": "2025-04-16T04:25:19.785Z"
   },
   {
    "duration": 8,
    "start_time": "2025-04-16T04:25:19.795Z"
   },
   {
    "duration": 39,
    "start_time": "2025-04-16T04:25:19.805Z"
   },
   {
    "duration": 140,
    "start_time": "2025-04-16T04:25:19.846Z"
   },
   {
    "duration": 4,
    "start_time": "2025-04-16T04:25:19.989Z"
   },
   {
    "duration": 4,
    "start_time": "2025-04-16T04:25:19.995Z"
   },
   {
    "duration": 206,
    "start_time": "2025-04-16T04:25:20.001Z"
   },
   {
    "duration": 107,
    "start_time": "2025-04-16T04:25:20.210Z"
   },
   {
    "duration": 63,
    "start_time": "2025-04-16T04:25:20.319Z"
   },
   {
    "duration": 754,
    "start_time": "2025-04-16T04:26:47.738Z"
   },
   {
    "duration": 23,
    "start_time": "2025-04-16T04:26:48.495Z"
   },
   {
    "duration": 24,
    "start_time": "2025-04-16T04:26:48.519Z"
   },
   {
    "duration": 9,
    "start_time": "2025-04-16T04:26:48.546Z"
   },
   {
    "duration": 9,
    "start_time": "2025-04-16T04:26:48.556Z"
   },
   {
    "duration": 3,
    "start_time": "2025-04-16T04:26:48.566Z"
   },
   {
    "duration": 4,
    "start_time": "2025-04-16T04:26:48.571Z"
   },
   {
    "duration": 6,
    "start_time": "2025-04-16T04:26:48.577Z"
   },
   {
    "duration": 21,
    "start_time": "2025-04-16T04:26:48.586Z"
   },
   {
    "duration": 47,
    "start_time": "2025-04-16T04:26:48.609Z"
   },
   {
    "duration": 5,
    "start_time": "2025-04-16T04:26:48.657Z"
   },
   {
    "duration": 5,
    "start_time": "2025-04-16T04:26:48.663Z"
   },
   {
    "duration": 18,
    "start_time": "2025-04-16T04:26:48.669Z"
   },
   {
    "duration": 4,
    "start_time": "2025-04-16T04:26:48.689Z"
   },
   {
    "duration": 7,
    "start_time": "2025-04-16T04:26:48.694Z"
   },
   {
    "duration": 5,
    "start_time": "2025-04-16T04:26:48.702Z"
   },
   {
    "duration": 40,
    "start_time": "2025-04-16T04:26:48.708Z"
   },
   {
    "duration": 7,
    "start_time": "2025-04-16T04:26:48.750Z"
   },
   {
    "duration": 3,
    "start_time": "2025-04-16T04:26:48.759Z"
   },
   {
    "duration": 4,
    "start_time": "2025-04-16T04:26:48.764Z"
   },
   {
    "duration": 5,
    "start_time": "2025-04-16T04:26:48.770Z"
   },
   {
    "duration": 6,
    "start_time": "2025-04-16T04:26:48.776Z"
   },
   {
    "duration": 14,
    "start_time": "2025-04-16T04:26:48.783Z"
   },
   {
    "duration": 51,
    "start_time": "2025-04-16T04:26:48.800Z"
   },
   {
    "duration": 9,
    "start_time": "2025-04-16T04:26:48.853Z"
   },
   {
    "duration": 4,
    "start_time": "2025-04-16T04:26:48.863Z"
   },
   {
    "duration": 173,
    "start_time": "2025-04-16T04:26:48.869Z"
   },
   {
    "duration": 5,
    "start_time": "2025-04-16T04:26:49.047Z"
   },
   {
    "duration": 6,
    "start_time": "2025-04-16T04:26:49.053Z"
   },
   {
    "duration": 210,
    "start_time": "2025-04-16T04:26:49.060Z"
   },
   {
    "duration": 96,
    "start_time": "2025-04-16T04:26:49.272Z"
   },
   {
    "duration": 52,
    "start_time": "2025-04-16T04:26:49.370Z"
   },
   {
    "duration": 10,
    "start_time": "2025-04-16T04:28:36.248Z"
   },
   {
    "duration": 9,
    "start_time": "2025-04-16T04:28:43.337Z"
   },
   {
    "duration": 9,
    "start_time": "2025-04-16T04:28:45.008Z"
   },
   {
    "duration": 4,
    "start_time": "2025-04-16T04:33:44.077Z"
   },
   {
    "duration": 102,
    "start_time": "2025-04-16T04:34:48.074Z"
   },
   {
    "duration": 146,
    "start_time": "2025-04-16T04:35:00.049Z"
   },
   {
    "duration": 7,
    "start_time": "2025-04-16T04:41:43.113Z"
   },
   {
    "duration": 185,
    "start_time": "2025-04-16T04:42:31.672Z"
   },
   {
    "duration": 2,
    "start_time": "2025-04-16T04:43:15.889Z"
   },
   {
    "duration": 90,
    "start_time": "2025-04-16T04:49:43.337Z"
   },
   {
    "duration": 10,
    "start_time": "2025-04-16T04:52:54.703Z"
   },
   {
    "duration": 20,
    "start_time": "2025-04-16T04:53:06.564Z"
   },
   {
    "duration": 21,
    "start_time": "2025-04-16T04:57:06.298Z"
   },
   {
    "duration": 2,
    "start_time": "2025-04-16T04:57:16.123Z"
   },
   {
    "duration": 3,
    "start_time": "2025-04-16T04:57:21.606Z"
   },
   {
    "duration": 763,
    "start_time": "2025-04-16T12:59:00.619Z"
   },
   {
    "duration": 27,
    "start_time": "2025-04-16T12:59:01.385Z"
   },
   {
    "duration": 17,
    "start_time": "2025-04-16T12:59:01.413Z"
   },
   {
    "duration": 11,
    "start_time": "2025-04-16T12:59:01.433Z"
   },
   {
    "duration": 8,
    "start_time": "2025-04-16T12:59:01.447Z"
   },
   {
    "duration": 3,
    "start_time": "2025-04-16T12:59:01.456Z"
   },
   {
    "duration": 3,
    "start_time": "2025-04-16T12:59:01.460Z"
   },
   {
    "duration": 6,
    "start_time": "2025-04-16T12:59:01.465Z"
   },
   {
    "duration": 24,
    "start_time": "2025-04-16T12:59:01.472Z"
   },
   {
    "duration": 47,
    "start_time": "2025-04-16T12:59:01.500Z"
   },
   {
    "duration": 5,
    "start_time": "2025-04-16T12:59:01.549Z"
   },
   {
    "duration": 4,
    "start_time": "2025-04-16T12:59:01.555Z"
   },
   {
    "duration": 19,
    "start_time": "2025-04-16T12:59:01.560Z"
   },
   {
    "duration": 4,
    "start_time": "2025-04-16T12:59:01.581Z"
   },
   {
    "duration": 6,
    "start_time": "2025-04-16T12:59:01.587Z"
   },
   {
    "duration": 4,
    "start_time": "2025-04-16T12:59:01.595Z"
   },
   {
    "duration": 49,
    "start_time": "2025-04-16T12:59:01.601Z"
   },
   {
    "duration": 7,
    "start_time": "2025-04-16T12:59:01.651Z"
   },
   {
    "duration": 5,
    "start_time": "2025-04-16T12:59:01.659Z"
   },
   {
    "duration": 5,
    "start_time": "2025-04-16T12:59:01.665Z"
   },
   {
    "duration": 5,
    "start_time": "2025-04-16T12:59:01.672Z"
   },
   {
    "duration": 8,
    "start_time": "2025-04-16T12:59:01.679Z"
   },
   {
    "duration": 10,
    "start_time": "2025-04-16T12:59:01.688Z"
   },
   {
    "duration": 50,
    "start_time": "2025-04-16T12:59:01.700Z"
   },
   {
    "duration": 9,
    "start_time": "2025-04-16T12:59:01.752Z"
   },
   {
    "duration": 5,
    "start_time": "2025-04-16T12:59:01.763Z"
   },
   {
    "duration": 5,
    "start_time": "2025-04-16T12:59:01.769Z"
   },
   {
    "duration": 230,
    "start_time": "2025-04-16T12:59:01.777Z"
   },
   {
    "duration": 118,
    "start_time": "2025-04-16T12:59:02.009Z"
   },
   {
    "duration": 31,
    "start_time": "2025-04-16T12:59:02.129Z"
   },
   {
    "duration": 2,
    "start_time": "2025-04-16T12:59:02.161Z"
   },
   {
    "duration": 3,
    "start_time": "2025-04-16T12:59:02.165Z"
   },
   {
    "duration": 3,
    "start_time": "2025-04-16T12:59:02.170Z"
   },
   {
    "duration": 4,
    "start_time": "2025-04-16T13:11:11.967Z"
   },
   {
    "duration": 112,
    "start_time": "2025-04-16T13:11:12.975Z"
   },
   {
    "duration": 153,
    "start_time": "2025-04-16T13:12:08.125Z"
   },
   {
    "duration": 127,
    "start_time": "2025-04-16T13:12:18.526Z"
   },
   {
    "duration": 99,
    "start_time": "2025-04-16T13:12:29.565Z"
   },
   {
    "duration": 104,
    "start_time": "2025-04-16T13:12:36.499Z"
   },
   {
    "duration": 6,
    "start_time": "2025-04-16T13:18:35.210Z"
   },
   {
    "duration": 102,
    "start_time": "2025-04-16T13:18:36.003Z"
   },
   {
    "duration": 23,
    "start_time": "2025-04-16T13:21:02.107Z"
   },
   {
    "duration": 303,
    "start_time": "2025-04-16T13:21:07.932Z"
   },
   {
    "duration": 119,
    "start_time": "2025-04-16T13:23:43.856Z"
   },
   {
    "duration": 109,
    "start_time": "2025-04-16T13:26:14.161Z"
   },
   {
    "duration": 5,
    "start_time": "2025-04-16T13:26:23.759Z"
   },
   {
    "duration": 287,
    "start_time": "2025-04-16T15:37:42.123Z"
   },
   {
    "duration": 5,
    "start_time": "2025-04-16T15:37:53.760Z"
   },
   {
    "duration": 23,
    "start_time": "2025-04-16T15:37:58.730Z"
   },
   {
    "duration": 119,
    "start_time": "2025-04-16T15:38:04.292Z"
   },
   {
    "duration": 14,
    "start_time": "2025-04-16T15:41:18.018Z"
   },
   {
    "duration": 5,
    "start_time": "2025-04-16T15:46:01.976Z"
   },
   {
    "duration": 8,
    "start_time": "2025-04-16T15:46:58.357Z"
   },
   {
    "duration": 16,
    "start_time": "2025-04-16T15:50:43.369Z"
   },
   {
    "duration": 6,
    "start_time": "2025-04-16T15:53:32.682Z"
   },
   {
    "duration": 14,
    "start_time": "2025-04-16T15:55:03.769Z"
   },
   {
    "duration": 12,
    "start_time": "2025-04-16T15:56:02.613Z"
   },
   {
    "duration": 11,
    "start_time": "2025-04-16T15:57:35.684Z"
   },
   {
    "duration": 13,
    "start_time": "2025-04-16T16:00:51.385Z"
   },
   {
    "duration": 774,
    "start_time": "2025-04-16T16:01:25.395Z"
   },
   {
    "duration": 25,
    "start_time": "2025-04-16T16:01:26.172Z"
   },
   {
    "duration": 17,
    "start_time": "2025-04-16T16:01:26.198Z"
   },
   {
    "duration": 25,
    "start_time": "2025-04-16T16:01:26.217Z"
   },
   {
    "duration": 9,
    "start_time": "2025-04-16T16:01:26.245Z"
   },
   {
    "duration": 3,
    "start_time": "2025-04-16T16:01:26.255Z"
   },
   {
    "duration": 3,
    "start_time": "2025-04-16T16:01:26.260Z"
   },
   {
    "duration": 6,
    "start_time": "2025-04-16T16:01:26.264Z"
   },
   {
    "duration": 31,
    "start_time": "2025-04-16T16:01:26.273Z"
   },
   {
    "duration": 40,
    "start_time": "2025-04-16T16:01:26.307Z"
   },
   {
    "duration": 8,
    "start_time": "2025-04-16T16:01:26.350Z"
   },
   {
    "duration": 3,
    "start_time": "2025-04-16T16:01:26.360Z"
   },
   {
    "duration": 24,
    "start_time": "2025-04-16T16:01:26.365Z"
   },
   {
    "duration": 5,
    "start_time": "2025-04-16T16:01:26.391Z"
   },
   {
    "duration": 7,
    "start_time": "2025-04-16T16:01:26.397Z"
   },
   {
    "duration": 4,
    "start_time": "2025-04-16T16:01:26.407Z"
   },
   {
    "duration": 31,
    "start_time": "2025-04-16T16:01:26.413Z"
   },
   {
    "duration": 8,
    "start_time": "2025-04-16T16:01:26.446Z"
   },
   {
    "duration": 5,
    "start_time": "2025-04-16T16:01:26.458Z"
   },
   {
    "duration": 4,
    "start_time": "2025-04-16T16:01:26.465Z"
   },
   {
    "duration": 5,
    "start_time": "2025-04-16T16:01:26.471Z"
   },
   {
    "duration": 6,
    "start_time": "2025-04-16T16:01:26.477Z"
   },
   {
    "duration": 10,
    "start_time": "2025-04-16T16:01:26.484Z"
   },
   {
    "duration": 7,
    "start_time": "2025-04-16T16:01:26.496Z"
   },
   {
    "duration": 45,
    "start_time": "2025-04-16T16:01:26.505Z"
   },
   {
    "duration": 3,
    "start_time": "2025-04-16T16:01:26.552Z"
   },
   {
    "duration": 6,
    "start_time": "2025-04-16T16:01:26.556Z"
   },
   {
    "duration": 243,
    "start_time": "2025-04-16T16:01:26.566Z"
   },
   {
    "duration": 113,
    "start_time": "2025-04-16T16:01:26.810Z"
   },
   {
    "duration": 5,
    "start_time": "2025-04-16T16:01:26.925Z"
   },
   {
    "duration": 30,
    "start_time": "2025-04-16T16:01:26.932Z"
   },
   {
    "duration": 137,
    "start_time": "2025-04-16T16:01:26.964Z"
   },
   {
    "duration": 15,
    "start_time": "2025-04-16T16:01:27.106Z"
   },
   {
    "duration": 7,
    "start_time": "2025-04-16T16:01:27.122Z"
   },
   {
    "duration": 23,
    "start_time": "2025-04-16T16:01:27.131Z"
   },
   {
    "duration": 11,
    "start_time": "2025-04-16T16:01:27.155Z"
   },
   {
    "duration": 2,
    "start_time": "2025-04-16T16:01:27.167Z"
   },
   {
    "duration": 2,
    "start_time": "2025-04-16T16:01:27.172Z"
   },
   {
    "duration": 5,
    "start_time": "2025-04-16T16:02:09.717Z"
   },
   {
    "duration": 5,
    "start_time": "2025-04-16T16:08:05.768Z"
   },
   {
    "duration": 177,
    "start_time": "2025-04-16T16:10:21.272Z"
   },
   {
    "duration": 131,
    "start_time": "2025-04-16T16:10:35.684Z"
   },
   {
    "duration": 129,
    "start_time": "2025-04-16T16:18:37.419Z"
   },
   {
    "duration": 143,
    "start_time": "2025-04-16T16:22:46.510Z"
   },
   {
    "duration": 5,
    "start_time": "2025-04-16T16:26:43.315Z"
   },
   {
    "duration": 134,
    "start_time": "2025-04-16T16:26:51.551Z"
   },
   {
    "duration": 130,
    "start_time": "2025-04-16T16:27:27.965Z"
   },
   {
    "duration": 133,
    "start_time": "2025-04-16T16:28:03.493Z"
   },
   {
    "duration": 132,
    "start_time": "2025-04-16T16:29:21.541Z"
   },
   {
    "duration": 4,
    "start_time": "2025-04-16T16:31:34.353Z"
   },
   {
    "duration": 132,
    "start_time": "2025-04-16T16:31:39.244Z"
   },
   {
    "duration": 135,
    "start_time": "2025-04-16T16:31:50.339Z"
   },
   {
    "duration": 5,
    "start_time": "2025-04-16T16:34:33.738Z"
   },
   {
    "duration": 5,
    "start_time": "2025-04-16T16:35:41.297Z"
   },
   {
    "duration": 5,
    "start_time": "2025-04-16T16:37:24.313Z"
   },
   {
    "duration": 141,
    "start_time": "2025-04-16T16:43:04.474Z"
   },
   {
    "duration": 4,
    "start_time": "2025-04-16T16:43:26.230Z"
   },
   {
    "duration": 131,
    "start_time": "2025-04-16T16:43:27.577Z"
   },
   {
    "duration": 4,
    "start_time": "2025-04-16T16:43:32.016Z"
   },
   {
    "duration": 809,
    "start_time": "2025-04-16T16:43:57.158Z"
   },
   {
    "duration": 24,
    "start_time": "2025-04-16T16:43:57.969Z"
   },
   {
    "duration": 21,
    "start_time": "2025-04-16T16:43:57.996Z"
   },
   {
    "duration": 27,
    "start_time": "2025-04-16T16:43:58.019Z"
   },
   {
    "duration": 11,
    "start_time": "2025-04-16T16:43:58.048Z"
   },
   {
    "duration": 4,
    "start_time": "2025-04-16T16:43:58.060Z"
   },
   {
    "duration": 4,
    "start_time": "2025-04-16T16:43:58.066Z"
   },
   {
    "duration": 5,
    "start_time": "2025-04-16T16:43:58.071Z"
   },
   {
    "duration": 27,
    "start_time": "2025-04-16T16:43:58.078Z"
   },
   {
    "duration": 48,
    "start_time": "2025-04-16T16:43:58.108Z"
   },
   {
    "duration": 5,
    "start_time": "2025-04-16T16:43:58.158Z"
   },
   {
    "duration": 5,
    "start_time": "2025-04-16T16:43:58.166Z"
   },
   {
    "duration": 20,
    "start_time": "2025-04-16T16:43:58.172Z"
   },
   {
    "duration": 4,
    "start_time": "2025-04-16T16:43:58.194Z"
   },
   {
    "duration": 5,
    "start_time": "2025-04-16T16:43:58.201Z"
   },
   {
    "duration": 5,
    "start_time": "2025-04-16T16:43:58.208Z"
   },
   {
    "duration": 11,
    "start_time": "2025-04-16T16:43:58.243Z"
   },
   {
    "duration": 11,
    "start_time": "2025-04-16T16:43:58.255Z"
   },
   {
    "duration": 7,
    "start_time": "2025-04-16T16:43:58.268Z"
   },
   {
    "duration": 6,
    "start_time": "2025-04-16T16:43:58.276Z"
   },
   {
    "duration": 7,
    "start_time": "2025-04-16T16:43:58.284Z"
   },
   {
    "duration": 9,
    "start_time": "2025-04-16T16:43:58.294Z"
   },
   {
    "duration": 50,
    "start_time": "2025-04-16T16:43:58.307Z"
   },
   {
    "duration": 14,
    "start_time": "2025-04-16T16:43:58.359Z"
   },
   {
    "duration": 14,
    "start_time": "2025-04-16T16:43:58.375Z"
   },
   {
    "duration": 4,
    "start_time": "2025-04-16T16:43:58.391Z"
   },
   {
    "duration": 6,
    "start_time": "2025-04-16T16:43:58.398Z"
   },
   {
    "duration": 247,
    "start_time": "2025-04-16T16:43:58.409Z"
   },
   {
    "duration": 117,
    "start_time": "2025-04-16T16:43:58.659Z"
   },
   {
    "duration": 4,
    "start_time": "2025-04-16T16:43:58.778Z"
   },
   {
    "duration": 24,
    "start_time": "2025-04-16T16:43:58.784Z"
   },
   {
    "duration": 155,
    "start_time": "2025-04-16T16:43:58.811Z"
   },
   {
    "duration": 26,
    "start_time": "2025-04-16T16:43:58.968Z"
   },
   {
    "duration": 10,
    "start_time": "2025-04-16T16:43:58.996Z"
   },
   {
    "duration": 4,
    "start_time": "2025-04-16T16:43:59.009Z"
   },
   {
    "duration": 11,
    "start_time": "2025-04-16T16:43:59.016Z"
   },
   {
    "duration": 200,
    "start_time": "2025-04-16T16:43:59.029Z"
   },
   {
    "duration": 11,
    "start_time": "2025-04-16T16:43:59.231Z"
   },
   {
    "duration": 146,
    "start_time": "2025-04-16T16:43:59.244Z"
   },
   {
    "duration": 5,
    "start_time": "2025-04-16T16:43:59.391Z"
   },
   {
    "duration": 25,
    "start_time": "2025-04-16T16:57:27.507Z"
   },
   {
    "duration": 18,
    "start_time": "2025-04-16T17:01:06.627Z"
   },
   {
    "duration": 112,
    "start_time": "2025-04-16T17:01:12.460Z"
   },
   {
    "duration": 111,
    "start_time": "2025-04-16T17:01:54.732Z"
   },
   {
    "duration": 24,
    "start_time": "2025-04-16T18:01:06.521Z"
   },
   {
    "duration": 20,
    "start_time": "2025-04-16T18:01:10.149Z"
   },
   {
    "duration": 790,
    "start_time": "2025-04-16T18:01:19.544Z"
   },
   {
    "duration": 35,
    "start_time": "2025-04-16T18:01:20.342Z"
   },
   {
    "duration": 20,
    "start_time": "2025-04-16T18:01:20.379Z"
   },
   {
    "duration": 9,
    "start_time": "2025-04-16T18:01:20.401Z"
   },
   {
    "duration": 10,
    "start_time": "2025-04-16T18:01:20.413Z"
   },
   {
    "duration": 4,
    "start_time": "2025-04-16T18:01:20.443Z"
   },
   {
    "duration": 3,
    "start_time": "2025-04-16T18:01:20.449Z"
   },
   {
    "duration": 7,
    "start_time": "2025-04-16T18:01:20.453Z"
   },
   {
    "duration": 21,
    "start_time": "2025-04-16T18:01:20.461Z"
   },
   {
    "duration": 18,
    "start_time": "2025-04-16T18:01:20.485Z"
   },
   {
    "duration": 5,
    "start_time": "2025-04-16T18:01:20.505Z"
   },
   {
    "duration": 4,
    "start_time": "2025-04-16T18:01:20.542Z"
   },
   {
    "duration": 22,
    "start_time": "2025-04-16T18:01:20.548Z"
   },
   {
    "duration": 7,
    "start_time": "2025-04-16T18:01:20.575Z"
   },
   {
    "duration": 9,
    "start_time": "2025-04-16T18:01:20.584Z"
   },
   {
    "duration": 7,
    "start_time": "2025-04-16T18:01:20.596Z"
   },
   {
    "duration": 42,
    "start_time": "2025-04-16T18:01:20.605Z"
   },
   {
    "duration": 10,
    "start_time": "2025-04-16T18:01:20.649Z"
   },
   {
    "duration": 5,
    "start_time": "2025-04-16T18:01:20.660Z"
   },
   {
    "duration": 5,
    "start_time": "2025-04-16T18:01:20.668Z"
   },
   {
    "duration": 5,
    "start_time": "2025-04-16T18:01:20.675Z"
   },
   {
    "duration": 7,
    "start_time": "2025-04-16T18:01:20.682Z"
   },
   {
    "duration": 9,
    "start_time": "2025-04-16T18:01:20.693Z"
   },
   {
    "duration": 48,
    "start_time": "2025-04-16T18:01:20.704Z"
   },
   {
    "duration": 12,
    "start_time": "2025-04-16T18:01:20.754Z"
   },
   {
    "duration": 4,
    "start_time": "2025-04-16T18:01:20.769Z"
   },
   {
    "duration": 5,
    "start_time": "2025-04-16T18:01:20.775Z"
   },
   {
    "duration": 242,
    "start_time": "2025-04-16T18:01:20.782Z"
   },
   {
    "duration": 123,
    "start_time": "2025-04-16T18:01:21.026Z"
   },
   {
    "duration": 6,
    "start_time": "2025-04-16T18:01:21.151Z"
   },
   {
    "duration": 19,
    "start_time": "2025-04-16T18:01:21.159Z"
   },
   {
    "duration": 143,
    "start_time": "2025-04-16T18:01:21.181Z"
   },
   {
    "duration": 19,
    "start_time": "2025-04-16T18:01:21.326Z"
   },
   {
    "duration": 7,
    "start_time": "2025-04-16T18:01:21.347Z"
   },
   {
    "duration": 5,
    "start_time": "2025-04-16T18:01:21.357Z"
   },
   {
    "duration": 10,
    "start_time": "2025-04-16T18:01:21.365Z"
   },
   {
    "duration": 229,
    "start_time": "2025-04-16T18:01:21.376Z"
   },
   {
    "duration": 172,
    "start_time": "2025-04-16T18:01:21.607Z"
   },
   {
    "duration": 4,
    "start_time": "2025-04-16T18:01:21.781Z"
   },
   {
    "duration": 21,
    "start_time": "2025-04-16T18:01:21.787Z"
   },
   {
    "duration": 209,
    "start_time": "2025-04-16T18:01:21.813Z"
   },
   {
    "duration": 25,
    "start_time": "2025-04-16T18:01:58.759Z"
   },
   {
    "duration": 259,
    "start_time": "2025-04-16T18:07:08.572Z"
   },
   {
    "duration": 20,
    "start_time": "2025-04-16T18:07:54.617Z"
   },
   {
    "duration": 198,
    "start_time": "2025-04-16T18:08:13.981Z"
   },
   {
    "duration": 184,
    "start_time": "2025-04-16T18:08:45.730Z"
   },
   {
    "duration": 2,
    "start_time": "2025-04-16T18:14:08.597Z"
   },
   {
    "duration": 5,
    "start_time": "2025-04-16T19:28:19.794Z"
   },
   {
    "duration": 8,
    "start_time": "2025-04-16T19:30:20.929Z"
   },
   {
    "duration": 73,
    "start_time": "2025-04-16T19:32:30.998Z"
   },
   {
    "duration": 318,
    "start_time": "2025-04-16T19:32:38.887Z"
   },
   {
    "duration": 11,
    "start_time": "2025-04-16T19:33:19.729Z"
   },
   {
    "duration": 7,
    "start_time": "2025-04-16T19:34:04.218Z"
   },
   {
    "duration": 10,
    "start_time": "2025-04-16T19:34:10.099Z"
   },
   {
    "duration": 8,
    "start_time": "2025-04-16T19:36:33.210Z"
   },
   {
    "duration": 13,
    "start_time": "2025-04-16T19:38:23.608Z"
   },
   {
    "duration": 14,
    "start_time": "2025-04-16T19:40:07.218Z"
   },
   {
    "duration": 14,
    "start_time": "2025-04-16T19:40:27.017Z"
   },
   {
    "duration": 9,
    "start_time": "2025-04-16T19:41:05.437Z"
   },
   {
    "duration": 9,
    "start_time": "2025-04-16T19:41:20.843Z"
   },
   {
    "duration": 9,
    "start_time": "2025-04-16T19:42:02.493Z"
   },
   {
    "duration": 12,
    "start_time": "2025-04-16T19:45:43.596Z"
   },
   {
    "duration": 8,
    "start_time": "2025-04-16T19:47:28.322Z"
   },
   {
    "duration": 5,
    "start_time": "2025-04-16T19:54:43.895Z"
   },
   {
    "duration": 16,
    "start_time": "2025-04-16T19:54:44.957Z"
   },
   {
    "duration": 8,
    "start_time": "2025-04-16T19:56:13.152Z"
   },
   {
    "duration": 6,
    "start_time": "2025-04-16T19:58:06.760Z"
   },
   {
    "duration": 11,
    "start_time": "2025-04-16T20:00:41.551Z"
   },
   {
    "duration": 9,
    "start_time": "2025-04-16T20:02:11.146Z"
   },
   {
    "duration": 8,
    "start_time": "2025-04-16T20:02:31.351Z"
   },
   {
    "duration": 8,
    "start_time": "2025-04-16T20:03:04.111Z"
   },
   {
    "duration": 16,
    "start_time": "2025-04-16T20:03:45.391Z"
   },
   {
    "duration": 4,
    "start_time": "2025-04-16T20:04:36.339Z"
   },
   {
    "duration": 5,
    "start_time": "2025-04-16T20:04:51.948Z"
   },
   {
    "duration": 7,
    "start_time": "2025-04-16T20:04:53.000Z"
   },
   {
    "duration": 5,
    "start_time": "2025-04-16T20:04:53.786Z"
   },
   {
    "duration": 4,
    "start_time": "2025-04-16T20:05:01.378Z"
   },
   {
    "duration": 14,
    "start_time": "2025-04-16T20:05:26.963Z"
   },
   {
    "duration": 6,
    "start_time": "2025-04-16T20:06:30.662Z"
   },
   {
    "duration": 6,
    "start_time": "2025-04-16T20:07:15.277Z"
   },
   {
    "duration": 5,
    "start_time": "2025-04-16T20:08:12.360Z"
   },
   {
    "duration": 11,
    "start_time": "2025-04-16T20:08:56.530Z"
   },
   {
    "duration": 14,
    "start_time": "2025-04-16T20:10:35.546Z"
   },
   {
    "duration": 12,
    "start_time": "2025-04-16T20:11:32.607Z"
   },
   {
    "duration": 13,
    "start_time": "2025-04-16T20:11:42.002Z"
   },
   {
    "duration": 11,
    "start_time": "2025-04-16T20:12:07.879Z"
   },
   {
    "duration": 6,
    "start_time": "2025-04-16T20:16:36.726Z"
   },
   {
    "duration": 44,
    "start_time": "2025-04-16T20:22:13.554Z"
   },
   {
    "duration": 11,
    "start_time": "2025-04-16T20:22:28.164Z"
   },
   {
    "duration": 16,
    "start_time": "2025-04-16T20:23:03.591Z"
   },
   {
    "duration": 24,
    "start_time": "2025-04-16T20:24:35.931Z"
   },
   {
    "duration": 5,
    "start_time": "2025-04-16T20:25:29.546Z"
   },
   {
    "duration": 6,
    "start_time": "2025-04-16T20:25:36.358Z"
   },
   {
    "duration": 7,
    "start_time": "2025-04-16T20:25:39.947Z"
   },
   {
    "duration": 12,
    "start_time": "2025-04-16T20:26:18.138Z"
   },
   {
    "duration": 3,
    "start_time": "2025-04-16T20:27:52.737Z"
   },
   {
    "duration": 154,
    "start_time": "2025-04-16T20:28:28.904Z"
   },
   {
    "duration": 113,
    "start_time": "2025-04-16T20:37:23.719Z"
   },
   {
    "duration": 130,
    "start_time": "2025-04-16T20:38:11.369Z"
   },
   {
    "duration": 287,
    "start_time": "2025-04-16T20:38:22.211Z"
   },
   {
    "duration": 7,
    "start_time": "2025-04-16T20:39:47.951Z"
   },
   {
    "duration": 9,
    "start_time": "2025-04-16T20:51:33.551Z"
   },
   {
    "duration": 16,
    "start_time": "2025-04-16T20:57:38.567Z"
   },
   {
    "duration": 10,
    "start_time": "2025-04-16T20:58:16.899Z"
   },
   {
    "duration": 9,
    "start_time": "2025-04-16T20:58:17.723Z"
   },
   {
    "duration": 13,
    "start_time": "2025-04-16T20:58:20.564Z"
   },
   {
    "duration": 162,
    "start_time": "2025-04-16T20:58:48.223Z"
   },
   {
    "duration": 7,
    "start_time": "2025-04-16T20:59:06.820Z"
   },
   {
    "duration": 8,
    "start_time": "2025-04-16T20:59:17.988Z"
   },
   {
    "duration": 11,
    "start_time": "2025-04-16T21:00:30.955Z"
   },
   {
    "duration": 149,
    "start_time": "2025-04-16T21:03:01.341Z"
   },
   {
    "duration": 14,
    "start_time": "2025-04-16T21:09:43.330Z"
   },
   {
    "duration": 15,
    "start_time": "2025-04-16T21:10:03.685Z"
   },
   {
    "duration": 13,
    "start_time": "2025-04-16T21:14:47.596Z"
   },
   {
    "duration": 18,
    "start_time": "2025-04-16T21:29:08.681Z"
   },
   {
    "duration": 17,
    "start_time": "2025-04-16T21:30:31.269Z"
   },
   {
    "duration": 46,
    "start_time": "2025-04-16T21:32:26.243Z"
   },
   {
    "duration": 25,
    "start_time": "2025-04-16T21:33:02.367Z"
   },
   {
    "duration": 44,
    "start_time": "2025-04-16T21:38:24.927Z"
   },
   {
    "duration": 23,
    "start_time": "2025-04-16T21:38:26.073Z"
   },
   {
    "duration": 536,
    "start_time": "2025-04-16T21:39:04.522Z"
   },
   {
    "duration": 5,
    "start_time": "2025-04-16T22:06:39.890Z"
   },
   {
    "duration": 2,
    "start_time": "2025-04-16T22:07:38.797Z"
   },
   {
    "duration": 4,
    "start_time": "2025-04-16T22:08:10.073Z"
   },
   {
    "duration": 210,
    "start_time": "2025-04-16T22:16:58.102Z"
   },
   {
    "duration": 9,
    "start_time": "2025-04-16T22:18:00.572Z"
   },
   {
    "duration": 5,
    "start_time": "2025-04-16T22:18:11.819Z"
   },
   {
    "duration": 2,
    "start_time": "2025-04-16T22:20:32.268Z"
   },
   {
    "duration": 3,
    "start_time": "2025-04-16T22:21:21.905Z"
   },
   {
    "duration": 2,
    "start_time": "2025-04-16T22:21:59.745Z"
   },
   {
    "duration": 2,
    "start_time": "2025-04-16T22:22:02.344Z"
   },
   {
    "duration": 2,
    "start_time": "2025-04-16T22:22:02.912Z"
   },
   {
    "duration": 5,
    "start_time": "2025-04-16T22:22:05.336Z"
   },
   {
    "duration": 3,
    "start_time": "2025-04-16T22:22:06.046Z"
   },
   {
    "duration": 3,
    "start_time": "2025-04-16T22:22:37.959Z"
   },
   {
    "duration": 2,
    "start_time": "2025-04-16T22:30:24.302Z"
   },
   {
    "duration": 5,
    "start_time": "2025-04-16T22:39:36.840Z"
   },
   {
    "duration": 7,
    "start_time": "2025-04-16T22:40:20.378Z"
   },
   {
    "duration": 3,
    "start_time": "2025-04-16T22:40:25.001Z"
   },
   {
    "duration": 3,
    "start_time": "2025-04-16T22:40:29.463Z"
   },
   {
    "duration": 2,
    "start_time": "2025-04-16T22:41:14.610Z"
   },
   {
    "duration": 5,
    "start_time": "2025-04-16T22:42:49.422Z"
   },
   {
    "duration": 7,
    "start_time": "2025-04-16T22:42:59.912Z"
   },
   {
    "duration": 75,
    "start_time": "2025-04-16T22:44:12.806Z"
   },
   {
    "duration": 10,
    "start_time": "2025-04-16T22:44:35.959Z"
   },
   {
    "duration": 5,
    "start_time": "2025-04-16T22:44:50.371Z"
   },
   {
    "duration": 13,
    "start_time": "2025-04-16T22:46:10.138Z"
   },
   {
    "duration": 9,
    "start_time": "2025-04-16T22:46:53.759Z"
   },
   {
    "duration": 9,
    "start_time": "2025-04-16T22:46:57.837Z"
   },
   {
    "duration": 6,
    "start_time": "2025-04-16T22:48:06.902Z"
   },
   {
    "duration": 5,
    "start_time": "2025-04-16T22:48:15.703Z"
   },
   {
    "duration": 17,
    "start_time": "2025-04-16T22:50:39.696Z"
   },
   {
    "duration": 18,
    "start_time": "2025-04-16T22:52:04.671Z"
   },
   {
    "duration": 5,
    "start_time": "2025-04-16T22:52:21.095Z"
   },
   {
    "duration": 6,
    "start_time": "2025-04-16T22:53:47.693Z"
   },
   {
    "duration": 23,
    "start_time": "2025-04-16T22:54:11.951Z"
   },
   {
    "duration": 5,
    "start_time": "2025-04-16T22:55:31.827Z"
   },
   {
    "duration": 3,
    "start_time": "2025-04-16T22:56:43.593Z"
   },
   {
    "duration": 157,
    "start_time": "2025-04-17T01:37:54.292Z"
   },
   {
    "duration": 2495,
    "start_time": "2025-04-17T01:38:02.645Z"
   },
   {
    "duration": 40,
    "start_time": "2025-04-17T01:38:05.141Z"
   },
   {
    "duration": 19,
    "start_time": "2025-04-17T01:38:05.183Z"
   },
   {
    "duration": 8,
    "start_time": "2025-04-17T01:38:05.205Z"
   },
   {
    "duration": 9,
    "start_time": "2025-04-17T01:38:05.215Z"
   },
   {
    "duration": 17,
    "start_time": "2025-04-17T01:38:05.226Z"
   },
   {
    "duration": 3,
    "start_time": "2025-04-17T01:38:05.245Z"
   },
   {
    "duration": 7,
    "start_time": "2025-04-17T01:38:05.250Z"
   },
   {
    "duration": 21,
    "start_time": "2025-04-17T01:38:05.259Z"
   },
   {
    "duration": 12,
    "start_time": "2025-04-17T01:38:05.284Z"
   },
   {
    "duration": 5,
    "start_time": "2025-04-17T01:38:05.298Z"
   },
   {
    "duration": 4,
    "start_time": "2025-04-17T01:38:05.305Z"
   },
   {
    "duration": 54,
    "start_time": "2025-04-17T01:38:05.311Z"
   },
   {
    "duration": 4,
    "start_time": "2025-04-17T01:38:05.367Z"
   },
   {
    "duration": 5,
    "start_time": "2025-04-17T01:38:05.373Z"
   },
   {
    "duration": 5,
    "start_time": "2025-04-17T01:38:05.380Z"
   },
   {
    "duration": 6,
    "start_time": "2025-04-17T01:38:05.387Z"
   },
   {
    "duration": 7,
    "start_time": "2025-04-17T01:38:05.395Z"
   },
   {
    "duration": 7,
    "start_time": "2025-04-17T01:38:05.442Z"
   },
   {
    "duration": 5,
    "start_time": "2025-04-17T01:38:05.450Z"
   },
   {
    "duration": 5,
    "start_time": "2025-04-17T01:38:05.456Z"
   },
   {
    "duration": 7,
    "start_time": "2025-04-17T01:38:05.462Z"
   },
   {
    "duration": 9,
    "start_time": "2025-04-17T01:38:05.470Z"
   },
   {
    "duration": 9,
    "start_time": "2025-04-17T01:38:05.481Z"
   },
   {
    "duration": 9,
    "start_time": "2025-04-17T01:38:05.492Z"
   },
   {
    "duration": 42,
    "start_time": "2025-04-17T01:38:05.503Z"
   },
   {
    "duration": 5,
    "start_time": "2025-04-17T01:38:05.547Z"
   },
   {
    "duration": 226,
    "start_time": "2025-04-17T01:38:05.558Z"
   },
   {
    "duration": 118,
    "start_time": "2025-04-17T01:38:05.786Z"
   },
   {
    "duration": 6,
    "start_time": "2025-04-17T01:38:05.906Z"
   },
   {
    "duration": 32,
    "start_time": "2025-04-17T01:38:05.913Z"
   },
   {
    "duration": 141,
    "start_time": "2025-04-17T01:38:05.947Z"
   },
   {
    "duration": 14,
    "start_time": "2025-04-17T01:38:06.090Z"
   },
   {
    "duration": 6,
    "start_time": "2025-04-17T01:38:06.105Z"
   },
   {
    "duration": 4,
    "start_time": "2025-04-17T01:38:06.113Z"
   },
   {
    "duration": 33,
    "start_time": "2025-04-17T01:38:06.119Z"
   },
   {
    "duration": 148,
    "start_time": "2025-04-17T01:38:06.154Z"
   },
   {
    "duration": 140,
    "start_time": "2025-04-17T01:38:06.304Z"
   },
   {
    "duration": 6,
    "start_time": "2025-04-17T01:38:06.446Z"
   },
   {
    "duration": 20,
    "start_time": "2025-04-17T01:38:06.456Z"
   },
   {
    "duration": 261,
    "start_time": "2025-04-17T01:38:06.478Z"
   },
   {
    "duration": 7,
    "start_time": "2025-04-17T01:38:06.742Z"
   },
   {
    "duration": 5,
    "start_time": "2025-04-17T01:38:06.751Z"
   },
   {
    "duration": 9,
    "start_time": "2025-04-17T01:38:06.758Z"
   },
   {
    "duration": 118,
    "start_time": "2025-04-17T01:38:06.768Z"
   },
   {
    "duration": 5,
    "start_time": "2025-04-17T01:38:06.889Z"
   },
   {
    "duration": 6,
    "start_time": "2025-04-17T01:38:06.895Z"
   },
   {
    "duration": 9,
    "start_time": "2025-04-17T01:38:06.902Z"
   },
   {
    "duration": 31,
    "start_time": "2025-04-17T01:38:06.913Z"
   },
   {
    "duration": 13,
    "start_time": "2025-04-17T01:38:06.946Z"
   },
   {
    "duration": 22,
    "start_time": "2025-04-17T01:38:06.962Z"
   },
   {
    "duration": 22,
    "start_time": "2025-04-17T01:38:06.985Z"
   },
   {
    "duration": 2,
    "start_time": "2025-04-17T01:38:07.008Z"
   },
   {
    "duration": 3,
    "start_time": "2025-04-17T01:38:07.012Z"
   },
   {
    "duration": 6,
    "start_time": "2025-04-17T01:38:07.042Z"
   },
   {
    "duration": 3,
    "start_time": "2025-04-17T01:38:07.050Z"
   },
   {
    "duration": 4,
    "start_time": "2025-04-17T01:38:07.055Z"
   },
   {
    "duration": 7,
    "start_time": "2025-04-17T01:38:07.060Z"
   },
   {
    "duration": 5,
    "start_time": "2025-04-17T01:38:15.504Z"
   },
   {
    "duration": 5,
    "start_time": "2025-04-17T01:38:21.273Z"
   },
   {
    "duration": 214,
    "start_time": "2025-04-17T01:43:48.227Z"
   },
   {
    "duration": 117,
    "start_time": "2025-04-17T01:44:00.133Z"
   },
   {
    "duration": 3,
    "start_time": "2025-04-17T01:46:22.240Z"
   },
   {
    "duration": 4,
    "start_time": "2025-04-17T01:48:56.025Z"
   },
   {
    "duration": 3,
    "start_time": "2025-04-17T01:50:32.381Z"
   },
   {
    "duration": 4,
    "start_time": "2025-04-17T01:50:36.539Z"
   },
   {
    "duration": 3,
    "start_time": "2025-04-17T01:50:45.444Z"
   },
   {
    "duration": 5,
    "start_time": "2025-04-17T01:51:54.031Z"
   },
   {
    "duration": 4,
    "start_time": "2025-04-17T01:52:20.735Z"
   },
   {
    "duration": 7,
    "start_time": "2025-04-17T01:52:40.340Z"
   },
   {
    "duration": 4,
    "start_time": "2025-04-17T01:52:55.619Z"
   },
   {
    "duration": 4,
    "start_time": "2025-04-17T01:53:08.298Z"
   },
   {
    "duration": 5,
    "start_time": "2025-04-17T01:53:46.775Z"
   },
   {
    "duration": 4,
    "start_time": "2025-04-17T01:53:47.870Z"
   },
   {
    "duration": 4,
    "start_time": "2025-04-17T01:54:58.345Z"
   },
   {
    "duration": 4,
    "start_time": "2025-04-17T01:55:08.819Z"
   },
   {
    "duration": 4,
    "start_time": "2025-04-17T01:55:13.682Z"
   },
   {
    "duration": 4,
    "start_time": "2025-04-17T01:56:58.390Z"
   },
   {
    "duration": 3,
    "start_time": "2025-04-17T01:57:23.377Z"
   }
  ],
  "kernelspec": {
   "display_name": "base",
   "language": "python",
   "name": "python3"
  },
  "language_info": {
   "codemirror_mode": {
    "name": "ipython",
    "version": 3
   },
   "file_extension": ".py",
   "mimetype": "text/x-python",
   "name": "python",
   "nbconvert_exporter": "python",
   "pygments_lexer": "ipython3",
   "version": "3.12.7"
  },
  "toc": {
   "base_numbering": 1,
   "nav_menu": {},
   "number_sections": true,
   "sideBar": true,
   "skip_h1_title": true,
   "title_cell": "Table of Contents",
   "title_sidebar": "Contents",
   "toc_cell": false,
   "toc_position": {},
   "toc_section_display": true,
   "toc_window_display": false
  }
 },
 "nbformat": 4,
 "nbformat_minor": 2
}
